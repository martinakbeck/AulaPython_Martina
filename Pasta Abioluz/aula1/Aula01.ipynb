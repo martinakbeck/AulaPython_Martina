{
 "cells": [
  {
   "cell_type": "markdown",
   "metadata": {},
   "source": [
    "<h1><center>Aula 01</center></h1>"
   ]
  },
  {
   "cell_type": "markdown",
   "metadata": {},
   "source": [
    "<b>Função print()</b>\n",
    "\n",
    "A Função print serve para mostrar (escrever na tela) mensagem para o usuário..."
   ]
  },
  {
   "cell_type": "code",
   "execution_count": null,
   "metadata": {},
   "outputs": [],
   "source": []
  },
  {
   "cell_type": "markdown",
   "metadata": {},
   "source": [
    "<b>Função input()</b>\n",
    "\n",
    "Quando é necessário que o usuário interaja com o programa, usamos o comando input()."
   ]
  },
  {
   "cell_type": "code",
   "execution_count": null,
   "metadata": {},
   "outputs": [],
   "source": []
  },
  {
   "cell_type": "markdown",
   "metadata": {},
   "source": [
    "<b>Variáveis</b>\n",
    "\n",
    "A variável é como se fosse caixinha na memória do computador onde se guarda informações. \n",
    "<br>Esta caixinha necessita de um rotulo para ser identificada pelo computador. \n",
    "<br>Para rotular esta caixa, devemos escolher um nome que possa identificar e que siga a seguinte regra:\n",
    "\n",
    "- Não iniciar com números \n",
    "    - errado: 1Nome, 0123abc\n",
    "    - certo: nome1, abc0123\n",
    "- Não iniciar com simbolos\n",
    "    - errado: $numero, #nome, %idade\n",
    "    - certo: numero, nome, idade\n",
    "- Não possuir assentos ou caracteres especiais\n",
    "    - errado: preço, vairável, endereço, tendência\n",
    "    - certo: preco, vairavel, endereco, tendencia\n",
    "- Não possuir espaço\n",
    "    - errado: nome do produto, nome cliente, media geral\n",
    "    - certo: nome_do_produto, nomeCliente, mediageral\n",
    "- Não pode ter ponto, traço, barras\n",
    "    - errado: nome-do-produto, nome/cliente, media.geral\n",
    "    - certo: nome_do_produto, nomeCliente, mediageral\n",
    "\n",
    "O que pode então?\n",
    "\n",
    "- Use somente o alfabeto, números e underline portento que não começe com números.\n"
   ]
  },
  {
   "cell_type": "code",
   "execution_count": 1,
   "metadata": {},
   "outputs": [],
   "source": []
  },
  {
   "cell_type": "markdown",
   "metadata": {},
   "source": [
    "<b> Oprerações Matemáticas Básicas</b>\n",
    "\n",
    "- \\+ Soma\n",
    "- \\- Subtração\n",
    "- \\/ divisão\n",
    "- \\* Multiplicação\n",
    "\n",
    "\n",
    "\n"
   ]
  },
  {
   "cell_type": "code",
   "execution_count": null,
   "metadata": {},
   "outputs": [],
   "source": []
  },
  {
   "cell_type": "markdown",
   "metadata": {},
   "source": [
    "<b> Outras Oprerações Matemáticas</b>\n",
    "\n",
    "- \\*\\* Expoente\n",
    "- \\/\\/ Divisão inteira\n",
    "- \\% Módulo\n",
    "\n"
   ]
  },
  {
   "cell_type": "code",
   "execution_count": null,
   "metadata": {},
   "outputs": [],
   "source": []
  },
  {
   "cell_type": "markdown",
   "metadata": {},
   "source": [
    "<b>E a Raiz quadrada?</b>\n",
    "\n",
    "\n",
    "raiz = 9**(1/2)"
   ]
  },
  {
   "cell_type": "code",
   "execution_count": null,
   "metadata": {},
   "outputs": [],
   "source": []
  },
  {
   "cell_type": "markdown",
   "metadata": {},
   "source": [
    "<b> Operadores de comparação </b>\n",
    "\n",
    "- \\> maior\n",
    "- \\< menor\n",
    "- \\>\\= maior ou igual\n",
    "- \\<\\= menor ou igual\n",
    "- \\=\\= igual"
   ]
  },
  {
   "cell_type": "code",
   "execution_count": null,
   "metadata": {},
   "outputs": [],
   "source": []
  },
  {
   "cell_type": "markdown",
   "metadata": {},
   "source": [
    "<b>Aonde podemos usar os operadores de comparação? </b>\n",
    "\n",
    "<b>Laço condicional if</b>\n",
    "\n",
    "O laço condicional if (se) ele muda o fluxo do programa e direciona "
   ]
  },
  {
   "cell_type": "markdown",
   "metadata": {},
   "source": []
  }
 ],
 "metadata": {
  "kernelspec": {
   "display_name": "Python 3",
   "language": "python",
   "name": "python3"
  },
  "language_info": {
   "codemirror_mode": {
    "name": "ipython",
    "version": 3
   },
   "file_extension": ".py",
   "mimetype": "text/x-python",
   "name": "python",
   "nbconvert_exporter": "python",
   "pygments_lexer": "ipython3",
   "version": "3.7.3"
  }
 },
 "nbformat": 4,
 "nbformat_minor": 2
}
