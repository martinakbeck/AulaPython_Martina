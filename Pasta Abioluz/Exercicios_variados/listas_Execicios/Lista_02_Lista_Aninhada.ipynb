{
  "nbformat": 4,
  "nbformat_minor": 0,
  "metadata": {
    "colab": {
      "name": "Lista 02 Lista Aninhada.ipynb",
      "provenance": [],
      "collapsed_sections": []
    },
    "kernelspec": {
      "name": "python3",
      "display_name": "Python 3"
    }
  },
  "cells": [
    {
      "cell_type": "markdown",
      "metadata": {
        "id": "d4OWWVdZBilo",
        "colab_type": "text"
      },
      "source": [
        "<h1>Lista Aninhada</h1>\n",
        "\n",
        "São listas dentro de listas.<br>\n",
        "Elas tem algumas peculiaredades como:\n",
        "Ao fazer a contagem de elementos dentro de uma lista, a listna aninhada será contada como um único elemento\n",
        "\n"
      ]
    },
    {
      "cell_type": "code",
      "metadata": {
        "id": "dUExBLfwBOsj",
        "colab_type": "code",
        "colab": {}
      },
      "source": [
        "lista = [3,4,5,[9,10,11],20,30]\n",
        "lista2 = [3,4,5,\"lugar da lista\",20,30]\n",
        "print(len(lista)==len(lista2))"
      ],
      "execution_count": null,
      "outputs": []
    },
    {
      "cell_type": "markdown",
      "metadata": {
        "id": "yGtTwNn1HIZZ",
        "colab_type": "text"
      },
      "source": [
        "Para poder acessar um elemento dentro da lista aninhada é necessário acessar primeiro a posição depois o indice do elemento"
      ]
    },
    {
      "cell_type": "code",
      "metadata": {
        "id": "iZApGUw2Han_",
        "colab_type": "code",
        "colab": {}
      },
      "source": [
        "# Acessar o número 10\n",
        "lista = [3,4,5,[9,10,11],20,30]\n",
        "# primeiro acessar a posição da lista aninhada\n",
        "print('Lista aninhada')\n",
        "print(lista[3])\n",
        "# segudo acessar a posição do elemento número 10\n",
        "print('Número 10')\n",
        "print(lista[3][1])"
      ],
      "execution_count": null,
      "outputs": []
    },
    {
      "cell_type": "markdown",
      "metadata": {
        "id": "y5UqkcFGIEk_",
        "colab_type": "text"
      },
      "source": [
        "Nota-se que o elemento número 10 está na posição 1 da lista aninhada. \n",
        "Isso se deve ao fato de ao acessar a posição da lista em que está a lista aninhada a lista passa a se comportar como sendo a lista aninhada. Vejá só."
      ]
    },
    {
      "cell_type": "code",
      "metadata": {
        "id": "VV4IUxaGJbvW",
        "colab_type": "code",
        "colab": {}
      },
      "source": [
        "lista = [3,4,5,[9,10,11],20,30]\n",
        "# ver a quantidade de elementos da lista aninhada\n",
        "print(len(lista[3]))\n",
        "# Adicionando elemento dentro da lista aninhada\n",
        "lista[3].append(7)\n",
        "print(lista[3])\n",
        "print(lista)\n",
        "# removendo elemento na lista aninhada\n",
        "lista[3].pop()\n",
        "print(lista[3])\n",
        "print(lista)"
      ],
      "execution_count": null,
      "outputs": []
    },
    {
      "cell_type": "markdown",
      "metadata": {
        "id": "QDNAEoAgLF-j",
        "colab_type": "text"
      },
      "source": [
        "Se houver uma lista dentro de outra lista dentro d...\n"
      ]
    },
    {
      "cell_type": "code",
      "metadata": {
        "id": "l6jzdVYALkYR",
        "colab_type": "code",
        "colab": {}
      },
      "source": [
        "lista =[3, 4, 5, [9, [80,90,100,[200,300,400]], 11], 20, 30]\n",
        "# Primeiro devemos acessar o indice que contêm a lista interna\n",
        "print(lista[3])\n",
        "# O resultado é: [9, [80, 90, 100, [200, 300, 400]], 11]\n",
        "\n",
        "# Ir acessando item por item da lista:\n",
        "print(lista[3][1])\n",
        "# O resultado é: [80, 90, 100, [200, 300, 400]]\n",
        "print(lista[3][1][3])\n",
        "# O resultado é: [200, 300, 400]\n",
        "print(lista[3][1][3][1])\n",
        "# O resultado é: 300\n",
        "\n",
        "# Nota-se que cada conchetes adicionado com o indice da lista, \n",
        "# entramos cada vez mais para dentro das listas."
      ],
      "execution_count": null,
      "outputs": []
    },
    {
      "cell_type": "markdown",
      "metadata": {
        "id": "CerMsVSALz0G",
        "colab_type": "text"
      },
      "source": [
        "<h1>EXERCÍCIOS</h1>\n",
        "\n",
        "Lembre-se de usar os elementos da lista chamando eles pelo indice.<br>\n",
        "Use o for se for necessário."
      ]
    },
    {
      "cell_type": "markdown",
      "metadata": {
        "id": "MMn2z0yCMIeu",
        "colab_type": "text"
      },
      "source": [
        "**1) Dada a seguinte lista, resolva as seguintes questões:**"
      ]
    },
    {
      "cell_type": "code",
      "metadata": {
        "id": "_nujoU0JMF0S",
        "colab_type": "code",
        "colab": {}
      },
      "source": [
        "# A lista está organizada da seguinte forma:\n",
        "# A primeira lista é o cabeçalho que diz o que siguinifica cada lista a seguir. Ex: Lista de frutas, lita de verduras, lista de legumes.\n",
        "\n",
        "lista = [\n",
        "          ['frutas','verduras','legumes'],\n",
        "          ['mamão','abacaxi','laranja','uva','pera','maçã','vergamota'],\n",
        "          ['alface crespa', 'alface lisa','rucula','almerão','repolho','salsinha','cebolinha'],\n",
        "          ['feijão', 'erviha', 'lentilha','vagem','feijão branco','gão de bico','soja']\n",
        "        ]"
      ],
      "execution_count": 8,
      "outputs": []
    },
    {
      "cell_type": "markdown",
      "metadata": {
        "id": "eiDo3KGzMsJm",
        "colab_type": "text"
      },
      "source": [
        "Imprima a lista cabeçalho e mostre todos os seus elementos"
      ]
    },
    {
      "cell_type": "code",
      "metadata": {
        "id": "hqD2VmjYNl_P",
        "colab_type": "code",
        "colab": {}
      },
      "source": [
        ""
      ],
      "execution_count": null,
      "outputs": []
    },
    {
      "cell_type": "markdown",
      "metadata": {
        "id": "J6hV_e2ZMslc",
        "colab_type": "text"
      },
      "source": [
        "Imprima com f-string a seguinte sequência: \n",
        "\n",
        "abacaxi - laranja - maçã - vergamota\n",
        "\n",
        "\n"
      ]
    },
    {
      "cell_type": "code",
      "metadata": {
        "id": "bUablRuhNmpV",
        "colab_type": "code",
        "colab": {
          "base_uri": "https://localhost:8080/",
          "height": 34
        },
        "outputId": "dbfeaab2-d48d-4db2-ef9d-3a3dac73b386"
      },
      "source": [
        "# Exemplo:\n",
        "print(f\"{lista[1][1]} - {lista[1][2]} - {lista[1][5]} - {lista[1][6]} \")"
      ],
      "execution_count": 10,
      "outputs": [
        {
          "output_type": "stream",
          "text": [
            "abacaxi - laranja - maçã - vergamota \n"
          ],
          "name": "stdout"
        }
      ]
    },
    {
      "cell_type": "markdown",
      "metadata": {
        "id": "cI-5vMSUMsiM",
        "colab_type": "text"
      },
      "source": [
        "Imprima com f-string a seguinte sequência:\n",
        "\n",
        "\n",
        "alface lisa - salsinha - rucula - alface crespa\n"
      ]
    },
    {
      "cell_type": "code",
      "metadata": {
        "id": "TcnK7IOCNszJ",
        "colab_type": "code",
        "colab": {}
      },
      "source": [
        ""
      ],
      "execution_count": null,
      "outputs": []
    },
    {
      "cell_type": "markdown",
      "metadata": {
        "id": "OUfeW3y-Mse6",
        "colab_type": "text"
      },
      "source": [
        "\n",
        "Imprima com f-string a seguinte sequência:\n",
        "\n",
        "frutas: laranja e prera\n",
        "\n",
        "verduras: repolho e rucula\n",
        "\n",
        "legumes: ervilha, feijão branco e grão de bico"
      ]
    },
    {
      "cell_type": "code",
      "metadata": {
        "id": "z6BoYUQxN8W5",
        "colab_type": "code",
        "colab": {}
      },
      "source": [
        ""
      ],
      "execution_count": null,
      "outputs": []
    },
    {
      "cell_type": "markdown",
      "metadata": {
        "id": "vrAOWAe_Msb8",
        "colab_type": "text"
      },
      "source": [
        "Imprima com f-string a seguinte sequência:\n",
        "\n",
        "mamão - ervilha, rucula, salsinha, mamão, repolho"
      ]
    },
    {
      "cell_type": "code",
      "metadata": {
        "id": "EX4aRxlfOCxg",
        "colab_type": "code",
        "colab": {}
      },
      "source": [
        ""
      ],
      "execution_count": null,
      "outputs": []
    },
    {
      "cell_type": "markdown",
      "metadata": {
        "id": "HNXqQnQGMsY2",
        "colab_type": "text"
      },
      "source": [
        "Imprima com f-string a seguinte sequência: \n",
        "\n",
        "fruta: 3kg de laranja, 8kg de uva, 4.5kg de maçã, 1kg de vergamota\n"
      ]
    },
    {
      "cell_type": "code",
      "metadata": {
        "id": "ipMml6N_Oge2",
        "colab_type": "code",
        "colab": {}
      },
      "source": [
        ""
      ],
      "execution_count": null,
      "outputs": []
    },
    {
      "cell_type": "markdown",
      "metadata": {
        "id": "Qbsn5H-sMsG4",
        "colab_type": "text"
      },
      "source": [
        "Imprima com f-string a seguinte sequência: \n",
        "\n",
        "verduras: 5 maço de salsinha, 4 pés de alface crespa e alface lisa, 2 cabeças de repolho\n"
      ]
    },
    {
      "cell_type": "code",
      "metadata": {
        "id": "qoZ9ZUQeOsFy",
        "colab_type": "code",
        "colab": {}
      },
      "source": [
        ""
      ],
      "execution_count": null,
      "outputs": []
    },
    {
      "cell_type": "markdown",
      "metadata": {
        "id": "sPt1zvVNMsEl",
        "colab_type": "text"
      },
      "source": [
        "Imprima com f-string a seguinte sequência: \n",
        "\n",
        "legumes: 1kg de feijão, 2kg de gão de bico, 1.5 kg dde soja, 1 pacote de ervilha"
      ]
    },
    {
      "cell_type": "code",
      "metadata": {
        "id": "q2U0qBeaOxVI",
        "colab_type": "code",
        "colab": {}
      },
      "source": [
        ""
      ],
      "execution_count": null,
      "outputs": []
    },
    {
      "cell_type": "markdown",
      "metadata": {
        "id": "61scPv0dMr-h",
        "colab_type": "text"
      },
      "source": [
        "Imprima a lista legumes e mostre todos os seus elementos\n"
      ]
    },
    {
      "cell_type": "code",
      "metadata": {
        "id": "wQLLGJlwQGjR",
        "colab_type": "code",
        "colab": {}
      },
      "source": [
        ""
      ],
      "execution_count": null,
      "outputs": []
    },
    {
      "cell_type": "markdown",
      "metadata": {
        "id": "LjIuWC6eQhYB",
        "colab_type": "text"
      },
      "source": [
        "\n",
        "\n",
        "---\n",
        "\n"
      ]
    },
    {
      "cell_type": "markdown",
      "metadata": {
        "id": "rp20WaY2Qi18",
        "colab_type": "text"
      },
      "source": [
        "**2) Dada a seguinte lista, resolva as seguintes questões:**<br> \n",
        "\n",
        "A lista a seguir possui mais uma lista interna, a lista de preços.<br>\n",
        "\n",
        "A lista de preços possui 3 sublistas dentro dela com os preços dos produtos.<br>\n",
        "\n",
        "para exemplificar, o preço do mamão é de 10.00 - alface crespa é de 2.99 e o feijão 9.0 .<br>\n",
        "<br>\n",
        "<br>\n",
        "Será solicitado o preço de alguns produtos. para imprimir deve ser por f-string refrenciando o nome com o preço da seguinte forma: \"O preço do {} é R$ {}\"\n",
        "\n",
        "\n"
      ]
    },
    {
      "cell_type": "code",
      "metadata": {
        "id": "qjgbM7jxRMTO",
        "colab_type": "code",
        "colab": {}
      },
      "source": [
        "lista = [['frutas','verduras','legumes','preço'],\n",
        "         ['mamão','abacaxi','laranja','uva','pera','maçã','vergamota'],\n",
        "         ['alface crespa', 'alface lisa','rucula','almerão','repolho','salsinha','cebolinha'],\n",
        "         ['feijão', 'erviha', 'lentilha','vagem','feijão branco','gão de bico','soja'],\n",
        "         [ [10.00, 2.56, 5.25, 9.5, 10.05, 15, 5.75], [2.99, 2.95, 3.5, 3.25, 5.89, 2.9, 2.5],\n",
        "           [9.0, 5.0, 7.5, 1.75, 10.9, 5.99, 3.55] \n",
        "         ]\n",
        "        ]"
      ],
      "execution_count": 12,
      "outputs": []
    },
    {
      "cell_type": "markdown",
      "metadata": {
        "id": "2192MQkmRUXG",
        "colab_type": "text"
      },
      "source": [
        "Imprima o valor do abacaxi"
      ]
    },
    {
      "cell_type": "code",
      "metadata": {
        "id": "G4_efWIvReCd",
        "colab_type": "code",
        "colab": {
          "base_uri": "https://localhost:8080/",
          "height": 34
        },
        "outputId": "f0e44503-19b7-4695-c3ee-175fad1d7882"
      },
      "source": [
        "print(f\"O preço do {lista[1][1]} é de R$ {lista[4][0][1]:^6.2f}\")"
      ],
      "execution_count": 14,
      "outputs": [
        {
          "output_type": "stream",
          "text": [
            "O preço do abacaxi é de R$  2.56 \n"
          ],
          "name": "stdout"
        }
      ]
    },
    {
      "cell_type": "markdown",
      "metadata": {
        "id": "AnPq5jtzRhCr",
        "colab_type": "text"
      },
      "source": [
        "Imprima o valor da rucula\n",
        "\n"
      ]
    },
    {
      "cell_type": "code",
      "metadata": {
        "id": "4PSQDR4ySyCN",
        "colab_type": "code",
        "colab": {}
      },
      "source": [
        ""
      ],
      "execution_count": null,
      "outputs": []
    },
    {
      "cell_type": "markdown",
      "metadata": {
        "id": "22VdsJsLRiGT",
        "colab_type": "text"
      },
      "source": [
        "Imprima o valor da laranja"
      ]
    },
    {
      "cell_type": "code",
      "metadata": {
        "id": "NdCY51gPS0R1",
        "colab_type": "code",
        "colab": {}
      },
      "source": [
        ""
      ],
      "execution_count": null,
      "outputs": []
    },
    {
      "cell_type": "markdown",
      "metadata": {
        "id": "fsaK3afZRijb",
        "colab_type": "text"
      },
      "source": [
        "Imprima o valor do repolho\n"
      ]
    },
    {
      "cell_type": "code",
      "metadata": {
        "id": "4SzEMbSfS3LM",
        "colab_type": "code",
        "colab": {}
      },
      "source": [
        ""
      ],
      "execution_count": null,
      "outputs": []
    },
    {
      "cell_type": "markdown",
      "metadata": {
        "id": "HBVaJpC_Rifg",
        "colab_type": "text"
      },
      "source": [
        "Imprima o valor do feijão\n"
      ]
    },
    {
      "cell_type": "code",
      "metadata": {
        "id": "7QzCJhJCS5l3",
        "colab_type": "code",
        "colab": {}
      },
      "source": [
        ""
      ],
      "execution_count": null,
      "outputs": []
    },
    {
      "cell_type": "markdown",
      "metadata": {
        "id": "VzH1rI9NRib2",
        "colab_type": "text"
      },
      "source": [
        "Imprima o valor do feijão branco\n"
      ]
    },
    {
      "cell_type": "code",
      "metadata": {
        "id": "srzuzgv1S8jc",
        "colab_type": "code",
        "colab": {}
      },
      "source": [
        ""
      ],
      "execution_count": null,
      "outputs": []
    },
    {
      "cell_type": "markdown",
      "metadata": {
        "id": "sX7v9qwIRiYy",
        "colab_type": "text"
      },
      "source": [
        "Imprima o valor da vergamota\n"
      ]
    },
    {
      "cell_type": "code",
      "metadata": {
        "id": "jWI5pgjkS-xQ",
        "colab_type": "code",
        "colab": {}
      },
      "source": [
        ""
      ],
      "execution_count": null,
      "outputs": []
    },
    {
      "cell_type": "markdown",
      "metadata": {
        "id": "BRdYNiIIRiVW",
        "colab_type": "text"
      },
      "source": [
        "Imprima o valor da alface lisa\n"
      ]
    },
    {
      "cell_type": "code",
      "metadata": {
        "id": "ZY5U1kz9TBCq",
        "colab_type": "code",
        "colab": {}
      },
      "source": [
        ""
      ],
      "execution_count": null,
      "outputs": []
    },
    {
      "cell_type": "markdown",
      "metadata": {
        "id": "IEP6Gp4nRiSs",
        "colab_type": "text"
      },
      "source": [
        "Imprima o valor do mamão\n"
      ]
    },
    {
      "cell_type": "code",
      "metadata": {
        "id": "MsS0VCEqTDJo",
        "colab_type": "code",
        "colab": {}
      },
      "source": [
        ""
      ],
      "execution_count": null,
      "outputs": []
    },
    {
      "cell_type": "markdown",
      "metadata": {
        "id": "oGWWNHdeRiPq",
        "colab_type": "text"
      },
      "source": [
        "Imprima o valor da soja\n"
      ]
    },
    {
      "cell_type": "code",
      "metadata": {
        "id": "1q0yoQ8zTFjD",
        "colab_type": "code",
        "colab": {}
      },
      "source": [
        ""
      ],
      "execution_count": null,
      "outputs": []
    },
    {
      "cell_type": "markdown",
      "metadata": {
        "id": "lWD6FxAcRiM7",
        "colab_type": "text"
      },
      "source": [
        "Imprima o valor da lentilha\n"
      ]
    },
    {
      "cell_type": "code",
      "metadata": {
        "id": "m9NJTdCoTIFw",
        "colab_type": "code",
        "colab": {}
      },
      "source": [
        ""
      ],
      "execution_count": null,
      "outputs": []
    },
    {
      "cell_type": "markdown",
      "metadata": {
        "id": "hs38yL_4RiK8",
        "colab_type": "text"
      },
      "source": [
        "Imprima o valor da uva\n"
      ]
    },
    {
      "cell_type": "code",
      "metadata": {
        "id": "5ZB7_aKkTKdF",
        "colab_type": "code",
        "colab": {}
      },
      "source": [
        ""
      ],
      "execution_count": null,
      "outputs": []
    },
    {
      "cell_type": "markdown",
      "metadata": {
        "id": "T23Fx5D1R8nv",
        "colab_type": "text"
      },
      "source": [
        "Imprima o valor da vagem\n"
      ]
    },
    {
      "cell_type": "code",
      "metadata": {
        "id": "pn4NVaooTNFj",
        "colab_type": "code",
        "colab": {}
      },
      "source": [
        ""
      ],
      "execution_count": null,
      "outputs": []
    },
    {
      "cell_type": "markdown",
      "metadata": {
        "id": "pOyAOwIER8zW",
        "colab_type": "text"
      },
      "source": [
        "Imprima o valor do almeirão\n"
      ]
    },
    {
      "cell_type": "code",
      "metadata": {
        "id": "DuEN-nSUTOxU",
        "colab_type": "code",
        "colab": {}
      },
      "source": [
        ""
      ],
      "execution_count": null,
      "outputs": []
    },
    {
      "cell_type": "markdown",
      "metadata": {
        "id": "O8yDF-AjR86k",
        "colab_type": "text"
      },
      "source": [
        "Imprima o valor da ervilha\n"
      ]
    },
    {
      "cell_type": "code",
      "metadata": {
        "id": "EZHgjq7VTQbl",
        "colab_type": "code",
        "colab": {}
      },
      "source": [
        ""
      ],
      "execution_count": null,
      "outputs": []
    },
    {
      "cell_type": "markdown",
      "metadata": {
        "id": "FSBKsDFnR83z",
        "colab_type": "text"
      },
      "source": [
        "Imprima o valor da maçã\n"
      ]
    },
    {
      "cell_type": "code",
      "metadata": {
        "id": "qpR82JZjTSfz",
        "colab_type": "code",
        "colab": {}
      },
      "source": [
        ""
      ],
      "execution_count": null,
      "outputs": []
    },
    {
      "cell_type": "markdown",
      "metadata": {
        "id": "0WU-AJfkXPmx",
        "colab_type": "text"
      },
      "source": [
        "\n",
        "\n",
        "---\n",
        "\n"
      ]
    },
    {
      "cell_type": "markdown",
      "metadata": {
        "id": "QRqHr1JFXc0S",
        "colab_type": "text"
      },
      "source": [
        "**3) Dada a seguinte lista, resolva as seguintes questões:**<br>\n",
        "Usando o comando for vamos fazer uma interação de varialvel tipo coleção. A interação é (simplificadamente) percorer toda a variavel e isolar seu valores.\n"
      ]
    },
    {
      "cell_type": "code",
      "metadata": {
        "id": "-9wt3AgMaS-i",
        "colab_type": "code",
        "colab": {}
      },
      "source": [
        "cerveja = (('marca', 'tipo', 'ibu','preço'),\n",
        "           ('Skol','IPA','ultra-leve',3.50),\n",
        "           ('Brahma','lager','leve/media',3.45),\n",
        "           ('Kaiser','Americam Larger','leve',2.35),\n",
        "           ('Sol','larger mão','agua',1.19)\n",
        "          )\n"
      ],
      "execution_count": 15,
      "outputs": []
    },
    {
      "cell_type": "markdown",
      "metadata": {
        "id": "7cUQutUmaqkh",
        "colab_type": "text"
      },
      "source": [
        "3.1 Com a seguinte lista, use o for para interar esta tupla  e apresentar (usando o f-string) o nome da cerveja, tipo da cerveja, o IBU da cerveja e o preço dela."
      ]
    },
    {
      "cell_type": "code",
      "metadata": {
        "id": "T1f_R0S8araz",
        "colab_type": "code",
        "colab": {}
      },
      "source": [
        ""
      ],
      "execution_count": null,
      "outputs": []
    },
    {
      "cell_type": "markdown",
      "metadata": {
        "id": "HW4_wIngasDN",
        "colab_type": "text"
      },
      "source": [
        "3.2 Crie uma função que receba esta tupla e devolva uma lista com um dicionários referenciando cada uma destas cervejas."
      ]
    },
    {
      "cell_type": "code",
      "metadata": {
        "id": "jpGumnibaxPg",
        "colab_type": "code",
        "colab": {}
      },
      "source": [
        ""
      ],
      "execution_count": null,
      "outputs": []
    }
  ]
}