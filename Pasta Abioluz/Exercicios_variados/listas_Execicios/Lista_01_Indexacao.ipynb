{
 "cells": [
  {
   "cell_type": "markdown",
   "metadata": {
    "colab_type": "text",
    "id": "w2VSNl3vHO8a"
   },
   "source": [
    "#**LISTAS E METODOS**\n",
    "\n"
   ]
  },
  {
   "cell_type": "markdown",
   "metadata": {
    "colab_type": "text",
    "id": "fUlR63jNHsmr"
   },
   "source": [
    "  **Indexação**\n",
    "  <br><br>\n",
    "  É a forma usada para recuperar parte da lista usando indices. <br>\n",
    "  <br>\n",
    "  lista[ inicio : fim : interação ]<br>\n",
    "  Inicio: Inicio da lista, começa com 0\n",
    "  Fim: Fin da lista. Lembrando que pega o valor anterior.\n",
    "  Interação: De quanto a quando"
   ]
  },
  {
   "cell_type": "code",
   "execution_count": null,
   "metadata": {
    "colab": {
     "base_uri": "https://localhost:8080/",
     "height": 34
    },
    "colab_type": "code",
    "id": "5iKLxyfAHOCL",
    "outputId": "5f464fe0-a2ea-4c25-9d51-a3ea66d5fedd"
   },
   "outputs": [
    {
     "name": "stdout",
     "output_type": "stream",
     "text": [
      "6\n"
     ]
    }
   ],
   "source": [
    "lista = [6,7,8,9,10,11,12,13]\n",
    "# Pegando o primeiro elemento\n",
    "print(lista[0])"
   ]
  },
  {
   "cell_type": "code",
   "execution_count": null,
   "metadata": {
    "colab": {
     "base_uri": "https://localhost:8080/",
     "height": 34
    },
    "colab_type": "code",
    "id": "79pfVefqI55z",
    "outputId": "4d5a0e9d-e06d-4ace-9f98-732cd43a8ce7"
   },
   "outputs": [
    {
     "name": "stdout",
     "output_type": "stream",
     "text": [
      "8\n"
     ]
    }
   ],
   "source": [
    "# Pegando o terceio elemento\n",
    "print(lista[2])"
   ]
  },
  {
   "cell_type": "code",
   "execution_count": null,
   "metadata": {
    "colab": {
     "base_uri": "https://localhost:8080/",
     "height": 34
    },
    "colab_type": "code",
    "id": "1ui2JJpGKFXn",
    "outputId": "8f1f65e4-705e-4b77-921a-fadd256b4508"
   },
   "outputs": [
    {
     "name": "stdout",
     "output_type": "stream",
     "text": [
      "13\n"
     ]
    }
   ],
   "source": [
    "# Pegando o iltimo elemento\n",
    "print(lista[-1])"
   ]
  },
  {
   "cell_type": "code",
   "execution_count": null,
   "metadata": {
    "colab": {},
    "colab_type": "code",
    "id": "IQ9hTrYKJybS"
   },
   "outputs": [],
   "source": [
    "# Pegar todos os números a partir do terceio elemento\n",
    "print(lista[2:])"
   ]
  },
  {
   "cell_type": "code",
   "execution_count": null,
   "metadata": {
    "colab": {},
    "colab_type": "code",
    "id": "aWaeDzgVJFOi"
   },
   "outputs": [],
   "source": [
    "# Pegando o número 7 a 10\n",
    "print(lista[1:5])"
   ]
  },
  {
   "cell_type": "code",
   "execution_count": null,
   "metadata": {
    "colab": {},
    "colab_type": "code",
    "id": "hGkhrVSKJV47"
   },
   "outputs": [],
   "source": [
    "# Pegando números de 2 em dois e 3 em 3\n",
    "print(lista[::2])\n",
    "print(lista[::3])"
   ]
  },
  {
   "cell_type": "code",
   "execution_count": null,
   "metadata": {
    "colab": {},
    "colab_type": "code",
    "id": "0IsrOn7fJ-DJ"
   },
   "outputs": [],
   "source": [
    "# Inverter a lista\n",
    "print(lista[::-1])"
   ]
  },
  {
   "cell_type": "markdown",
   "metadata": {
    "colab_type": "text",
    "id": "kzML6aPfKX_F"
   },
   "source": [
    "Sabia que isso também funciona com strig!"
   ]
  },
  {
   "cell_type": "code",
   "execution_count": null,
   "metadata": {
    "colab": {},
    "colab_type": "code",
    "id": "lu5f4XlTKVUA"
   },
   "outputs": [],
   "source": [
    "texto = \"Atirei o pau no gato\"\n",
    "print(texto[2:10])\n",
    "print(texto[::-1])"
   ]
  },
  {
   "cell_type": "markdown",
   "metadata": {
    "colab_type": "text",
    "id": "3BotHU1EKzdc"
   },
   "source": [
    "**Exercícios**"
   ]
  },
  {
   "cell_type": "markdown",
   "metadata": {
    "colab_type": "text",
    "id": "p_0P30cULGha"
   },
   "source": [
    "Dada a seguinte lista, resolva os seguintes questões:\n",
    "\n"
   ]
  },
  {
   "cell_type": "code",
   "execution_count": 1,
   "metadata": {
    "colab": {},
    "colab_type": "code",
    "id": "Pt0pWX3dLUl9"
   },
   "outputs": [],
   "source": [
    "lista = [10, 20, 'amor', 'abacaxi', 80, 'Abioluz', 'Cachorro grande é de arrasar']"
   ]
  },
  {
   "cell_type": "markdown",
   "metadata": {
    "colab_type": "text",
    "id": "ZMeql6XELZJW"
   },
   "source": [
    "1: Usando a indexação, escreva na tela a palavra abacaxi"
   ]
  },
  {
   "cell_type": "code",
   "execution_count": null,
   "metadata": {
    "colab": {},
    "colab_type": "code",
    "id": "6P7VnRQaLVrQ"
   },
   "outputs": [],
   "source": []
  },
  {
   "cell_type": "markdown",
   "metadata": {
    "colab_type": "text",
    "id": "vTYG1zdjLcW-"
   },
   "source": [
    "2: Usando a indexação, escreva na tela os seguintes dados: 20, amor, abacaxi"
   ]
  },
  {
   "cell_type": "code",
   "execution_count": null,
   "metadata": {
    "colab": {},
    "colab_type": "code",
    "id": "AGyJZ0D8LfLT"
   },
   "outputs": [],
   "source": []
  },
  {
   "cell_type": "markdown",
   "metadata": {
    "colab_type": "text",
    "id": "Xablhp5XLfsd"
   },
   "source": [
    "3: Usando a indexação, escreva na tela uma lista com dados de 20 até Abioluz\n"
   ]
  },
  {
   "cell_type": "code",
   "execution_count": null,
   "metadata": {
    "colab": {},
    "colab_type": "code",
    "id": "zQTCPuZ2Lmeo"
   },
   "outputs": [],
   "source": []
  },
  {
   "cell_type": "markdown",
   "metadata": {
    "colab_type": "text",
    "id": "HZTUUn64Lm-4"
   },
   "source": [
    "4: Usando a indexação, escreva na tela uma lista com os seguintes dados:<br><br>\n",
    "Cachorro grande é de arrasar, Abioluz, 80, abacaxi, amor, 20, 10"
   ]
  },
  {
   "cell_type": "code",
   "execution_count": null,
   "metadata": {
    "colab": {},
    "colab_type": "code",
    "id": "CJHaP7ObLwys"
   },
   "outputs": [],
   "source": []
  },
  {
   "cell_type": "markdown",
   "metadata": {
    "colab_type": "text",
    "id": "631qVmo7L1Bw"
   },
   "source": [
    "5: Usando o f-string e a indexação escreva na tela os seguintes dados:<br><br>\n",
    "**abacaxi** é muito bom, sinto muito **amor** quando eu chupo **80** deles."
   ]
  },
  {
   "cell_type": "code",
   "execution_count": null,
   "metadata": {
    "colab": {},
    "colab_type": "code",
    "id": "Khs4jl3WMh8l"
   },
   "outputs": [],
   "source": []
  },
  {
   "cell_type": "markdown",
   "metadata": {
    "colab_type": "text",
    "id": "Uc2ZReXgL2X3"
   },
   "source": [
    "6: Usando a indexação, escreva na tela os seguintes dados:<br><br>\n",
    "10, amor, 80, Cachorro grande é de arrasar"
   ]
  },
  {
   "cell_type": "code",
   "execution_count": null,
   "metadata": {
    "colab": {},
    "colab_type": "code",
    "id": "kG950zW5Minu"
   },
   "outputs": [],
   "source": []
  },
  {
   "cell_type": "markdown",
   "metadata": {
    "colab_type": "text",
    "id": "v-ZaP2oKL3F7"
   },
   "source": [
    "\n",
    "7: Usando o f-string e a indexação escreva na tela os seguintes dados:<br><br>\n",
    "Abioluz - abacaxi - 10 - Cachorro grande é de arrasar - 20 - 80\n"
   ]
  },
  {
   "cell_type": "code",
   "execution_count": null,
   "metadata": {
    "colab": {},
    "colab_type": "code",
    "id": "Z0MQgvfFMmsz"
   },
   "outputs": [],
   "source": []
  },
  {
   "cell_type": "markdown",
   "metadata": {
    "colab_type": "text",
    "id": "eX5_oW0gL3kL"
   },
   "source": [
    "8: Usando o f-string e a indexação escreva na tela os seguintes dados:<br><br>\n",
    "amor - 10 - 10 - abacaxi - Cachorro grande é de arrasar - Abioluz - 10 - 20"
   ]
  },
  {
   "cell_type": "code",
   "execution_count": null,
   "metadata": {
    "colab": {},
    "colab_type": "code",
    "id": "-SwMfGwBMvsi"
   },
   "outputs": [],
   "source": []
  },
  {
   "cell_type": "markdown",
   "metadata": {
    "colab_type": "text",
    "id": "sVsk4dKHL4GM"
   },
   "source": [
    "9: Usando a indexação, escreva na tela uma lista com dados de 10 até 80"
   ]
  },
  {
   "cell_type": "code",
   "execution_count": null,
   "metadata": {
    "colab": {},
    "colab_type": "code",
    "id": "1utL0x-3MwYf"
   },
   "outputs": [],
   "source": []
  },
  {
   "cell_type": "markdown",
   "metadata": {
    "colab_type": "text",
    "id": "AbrHT9jvL4Ma"
   },
   "source": [
    "10: Usando a indexação, escreva na tela os seguintes dados:<br><br>\n",
    "10, abacaxi, Cachorro grande é de arrasar"
   ]
  },
  {
   "cell_type": "code",
   "execution_count": null,
   "metadata": {
    "colab": {},
    "colab_type": "code",
    "id": "VMe6eL8_MJv_"
   },
   "outputs": [],
   "source": []
  },
  {
   "cell_type": "markdown",
   "metadata": {
    "colab_type": "text",
    "id": "i19YAXuBM0lL"
   },
   "source": [
    "\n",
    "\n",
    "---\n",
    "\n"
   ]
  }
 ],
 "metadata": {
  "colab": {
   "collapsed_sections": [],
   "name": "Lista 01 Indexacao.ipynb",
   "provenance": []
  },
  "kernelspec": {
   "display_name": "Python 3",
   "language": "python",
   "name": "python3"
  },
  "language_info": {
   "codemirror_mode": {
    "name": "ipython",
    "version": 3
   },
   "file_extension": ".py",
   "mimetype": "text/x-python",
   "name": "python",
   "nbconvert_exporter": "python",
   "pygments_lexer": "ipython3",
   "version": "3.7.3"
  }
 },
 "nbformat": 4,
 "nbformat_minor": 1
}
