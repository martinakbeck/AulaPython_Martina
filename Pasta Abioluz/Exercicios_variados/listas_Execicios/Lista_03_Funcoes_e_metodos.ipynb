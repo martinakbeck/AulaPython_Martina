{
 "cells": [
  {
   "cell_type": "markdown",
   "metadata": {
    "colab_type": "text",
    "id": "URMHdoK7eyAQ"
   },
   "source": [
    "<h1>FUNÇÕES E METODOS DE LISTAS</h1>\n",
    "\n"
   ]
  },
  {
   "cell_type": "markdown",
   "metadata": {
    "colab_type": "text",
    "id": "6xcKSeMdp5Dw"
   },
   "source": [
    "**Funções para lista**<br>\n",
    "\n",
    "Estas funções ajudam no trabalho com as listas:<br>\n",
    "\n",
    "min(), max(), sum(), len()<br><br>\n",
    "\n",
    "min() ele retorna o menor valor de uma lista.<br>\n",
    "Esta função funciona para números quanto para alfabeto.\n",
    "\n",
    "\n"
   ]
  },
  {
   "cell_type": "code",
   "execution_count": 1,
   "metadata": {
    "colab": {
     "base_uri": "https://localhost:8080/",
     "height": 51
    },
    "colab_type": "code",
    "id": "88z6H8ZXUoGT",
    "outputId": "69b5ee9f-88a1-409f-e500-a0705931ed9d"
   },
   "outputs": [
    {
     "name": "stdout",
     "output_type": "stream",
     "text": [
      "1\n",
      "a\n"
     ]
    }
   ],
   "source": [
    "lista_numerica = [2,4,1,5,6,7,3]\n",
    "lista_alfabetica = ['a','b','d','g']\n",
    "\n",
    "print( min(lista_numerica) ) #o numero 1\n",
    "print( min(lista_alfabetica) )#o caracter 'a'"
   ]
  },
  {
   "cell_type": "markdown",
   "metadata": {
    "colab_type": "text",
    "id": "kWX75nJrqKBG"
   },
   "source": [
    "\n",
    "\n",
    "max() ele retorna o maior valor dentro de uma lisa.<br>\n",
    "Esta função funciona para números quanto para alfabeto.<br>\n",
    "\n"
   ]
  },
  {
   "cell_type": "code",
   "execution_count": null,
   "metadata": {
    "colab": {},
    "colab_type": "code",
    "id": "Uc-EoTLOq8g5"
   },
   "outputs": [],
   "source": [
    "lista_numerica = [2,4,1,5,6,7,3]\n",
    "lista_alfabetica = ['a','b','d','g']\n",
    "\n",
    "print( max(lista_numerica) ) #o numero 7\n",
    "print( max(lista_alfabetica) )#o caracter 'g'"
   ]
  },
  {
   "cell_type": "markdown",
   "metadata": {
    "colab_type": "text",
    "id": "qP6vJr5ArEYK"
   },
   "source": [
    "sum() faz a soma de todos os valores dentro da lista. Estes valore devem ser númericos para que esta função funcione.<br>"
   ]
  },
  {
   "cell_type": "code",
   "execution_count": null,
   "metadata": {
    "colab": {},
    "colab_type": "code",
    "id": "njbBUYTgrE4l"
   },
   "outputs": [],
   "source": [
    "lista_numerica = [2,4,1,5,6,7,3]\n",
    "\n",
    "print( sum(lista_numerica) ) #o numero 28"
   ]
  },
  {
   "cell_type": "markdown",
   "metadata": {
    "colab_type": "text",
    "id": "SuwOu2SwrMgD"
   },
   "source": [
    "len() ele conta quantos itens tem um objeto como caracteres de uma string, bytes, tupla, lista, dicionário. <br>"
   ]
  },
  {
   "cell_type": "code",
   "execution_count": null,
   "metadata": {
    "colab": {},
    "colab_type": "code",
    "id": "WJRthL_frMk_"
   },
   "outputs": [],
   "source": [
    "lista_numerica = [2,4,1,5,6,7,3]\n",
    "lista_alfabetica = ['a','b','d','g']\n",
    "\n",
    "print( len(lista_alfabetica) ) #o resultado é 4 item\n",
    "print( len(lista_numerica) ) #o resultado é 7 itens"
   ]
  },
  {
   "cell_type": "markdown",
   "metadata": {
    "colab_type": "text",
    "id": "P-J-tIa5rkaw"
   },
   "source": [
    "Há dois operadores relacionas que podem ser usados em qualquer objetos do\n",
    "pythom. No cao da lista eles podem ajudar e muito.<br>\n",
    "\n",
    "Operador in<br><br>\n",
    "Este operado verifica se o iten faz parte da lista."
   ]
  },
  {
   "cell_type": "code",
   "execution_count": null,
   "metadata": {
    "colab": {},
    "colab_type": "code",
    "id": "8OyzjEthrlJ5"
   },
   "outputs": [],
   "source": [
    "lista = [0,1,2,3,4,5,6,7,8,9]\n",
    "lista_alfabetica = ['a','b','d','g']\n",
    "\n",
    "print(f'Há o número 5 na lista: {5 in lista}')\n",
    "print(f'Há o número 10 na lista alfabetica: {10 in lista_alfabetica}')\n"
   ]
  },
  {
   "cell_type": "markdown",
   "metadata": {
    "colab_type": "text",
    "id": "7811SnixrppS"
   },
   "source": [
    "Este metodo também pode verificar se há algum caracter em uma string"
   ]
  },
  {
   "cell_type": "code",
   "execution_count": null,
   "metadata": {
    "colab": {},
    "colab_type": "code",
    "id": "W8uB6VMbrq9B"
   },
   "outputs": [],
   "source": [
    "print('a' in 'Agua mole pedra dura')\n",
    "\n",
    "print('b' i 'Agua mole pedra dura')\n"
   ]
  },
  {
   "cell_type": "markdown",
   "metadata": {
    "colab_type": "text",
    "id": "KPdFZd3NsmJO"
   },
   "source": [
    "Operador is\n",
    "\n",
    "Este operador verifica se o item é o mesmo. Em outras palavras, verifica\n",
    "se as variáveis estão apontando para o mesmo local da memória.\n",
    "Para entender este conceito devemos notar que:\n",
    "\n",
    "o comando id() retorna o local da memória em que está guardada a variável.\n",
    "\n",
    "Criando e verificando o endereço da lista"
   ]
  },
  {
   "cell_type": "code",
   "execution_count": null,
   "metadata": {
    "colab": {},
    "colab_type": "code",
    "id": "Sjq8nb2bsovO"
   },
   "outputs": [],
   "source": [
    "lista = [1,2,3]\n",
    "print(id(lista))"
   ]
  },
  {
   "cell_type": "markdown",
   "metadata": {
    "colab_type": "text",
    "id": "5tfa7rnysws1"
   },
   "source": [
    "Criando a lista_numero e atribuindo a lista.\n",
    "\n",
    "Neste ponto as duas variáveis passam a apontar a mesma lista na memória.\n",
    "\n",
    "Isso pode ser notado olhando o id() das duas."
   ]
  },
  {
   "cell_type": "code",
   "execution_count": null,
   "metadata": {
    "colab": {},
    "colab_type": "code",
    "id": "FBzqsMCosxdH"
   },
   "outputs": [],
   "source": [
    "lista = [1,2,3]\n",
    "lista_numero = lista\n",
    "print(f'id(lista): {id(lista)}')\n",
    "print(f'id(lista_numero): {id(lista_numero)}')\n",
    "print('\\n')\n",
    "# Como as duas variáveis são uma lista só então é de se esperar que elas sejam\n",
    "# iguais.\n",
    "\n",
    "print(f'lista == lista_numero: {lista == lista_numero}')\n",
    "\n",
    "# Aqui verificamos se a lista é a lista_numero. o is irá retornar True se as \n",
    "# duas listas estão apontando para a mesma localidade na memória.\n",
    "\n",
    "print(f\"lista is lista_numero: {lista is lista_numero}\")\n",
    "\n",
    "\n",
    "print(\"\\n\\n\")\n",
    "# Aqui entra a diferença entre is e ==.\n",
    "# Fazendo uma cópia da lista e atribuindo para a lista_numero estamos \"criando\"\n",
    "# uma lista nova com os mesmos dados.\n",
    "# Isso é notado olhand o id() das duas listas.\n",
    "print('Copiando conteudo da lista para lista_numero2')\n",
    "lista_numero2 = lista.copy()\n",
    "print(f'id(lista): {id(lista)}')\n",
    "print(f'id(lista_numero2): {id(lista_numero2)}')\n",
    "print(\"\\n\")\n",
    "\n",
    "# Para testar, vemos os valores das duas listas. Nota-se que são iguais. Porem\n",
    "# a localidade da memória é diferente. Assim a operação == (igual) mostra \n",
    "# que as duas listas são iguais e o operador is mostra que as mesmas são listas \n",
    "# distintas.\n",
    "print(f'lista_numero2: {lista_numero2}')\n",
    "print(f'lista: {lista}')\n",
    "print(f'lista == lista_numero2: {lista == lista_numero2}')\n",
    "print(f'lista is lista_numero2: {lista is lista_numero2}')\n",
    "\n"
   ]
  },
  {
   "cell_type": "markdown",
   "metadata": {
    "colab_type": "text",
    "id": "-HPE8bTxvAd3"
   },
   "source": [
    "\n",
    "Qual a importância disso?\n",
    "\n",
    "Ao alterar uma lista que aponta para o mesmo local que outra lista, as duas listas serão alteradas.\n",
    "\n",
    "Porem ao copiar a lista, as duas passam a ser listas diferentes e a alteração de uma lista não afeta a outra lista."
   ]
  },
  {
   "cell_type": "markdown",
   "metadata": {
    "colab_type": "text",
    "id": "0Sy_SDgD3IIh"
   },
   "source": [
    "\n",
    "\n",
    "---\n",
    "\n"
   ]
  },
  {
   "cell_type": "markdown",
   "metadata": {
    "colab_type": "text",
    "id": "1_12afsEwHCH"
   },
   "source": [
    "\n",
    "**Metodos para Lista:**\n",
    "\n",
    "Aqui vamos ver 90% dos metodos que podem ser usados em listas. Estes metodos ajudam a trabalhar, alterar, filtrar qualquer elemento de uma lista.\n",
    "\n",
    "\n"
   ]
  },
  {
   "cell_type": "markdown",
   "metadata": {
    "colab_type": "text",
    "id": "4nv2he8JwXAa"
   },
   "source": [
    "**.join()**<br>\n",
    "(Os metodos .split() e .join() são metodos da string e não de listas)\n",
    "\n",
    "Já conhhecemos o elemento .split('') que pega uma string e quebra em uma lista. \n",
    "\n",
    "Agora vamos conhecer um comando que irá fazer o contrário. Este irá converter uma lista em uma string.\n",
    "\n",
    "É importante avisar que a lista deve ser composta por variáveis do tipo string. \n",
    "Caso haja um número (int, float) na lista ocorrerá o erro TypeError.\n",
    "Funcionamento:\n",
    "\n"
   ]
  },
  {
   "cell_type": "code",
   "execution_count": 17,
   "metadata": {
    "colab": {
     "base_uri": "https://localhost:8080/",
     "height": 68
    },
    "colab_type": "code",
    "id": "nE6oAEUp3k8U",
    "outputId": "cb0cf5c8-90cf-48c9-bba7-fb1d002bfacc"
   },
   "outputs": [
    {
     "name": "stdout",
     "output_type": "stream",
     "text": [
      "codigo;nome;idade;sexo\n",
      "\n",
      "codigo nome idade sexo\n"
     ]
    }
   ],
   "source": [
    "lista=['codigo','nome','idade','sexo']\n",
    "\n",
    "# Primerio deve determinar qual vai ser o caracter que irá separar os itens da lista. \n",
    "# Neste caso vamos colocar o ';'\n",
    "\n",
    "var = ';'.join(lista)\n",
    "print(var)\n",
    "\n",
    "# Verificamos que retornou uma string conhecida ;-)\n",
    "\n",
    "\n",
    "# Neste caso, queremos que a lista seja separada por um espaço:\n",
    "print()\n",
    "var2 = ' '.join(lista)\n",
    "print(var2)\n"
   ]
  },
  {
   "cell_type": "markdown",
   "metadata": {
    "colab_type": "text",
    "id": "o3tKaHyn4IFN"
   },
   "source": [
    "**.append()**<br><br>\n",
    "\n",
    "\n",
    "Para adicionar itens em uma lista, usamos o metodo .append()<br>\n",
    ".append(objeto)\n",
    "\n",
    "Adiciona objeto no final da lista"
   ]
  },
  {
   "cell_type": "code",
   "execution_count": null,
   "metadata": {
    "colab": {},
    "colab_type": "code",
    "id": "gifs0Z674lKr"
   },
   "outputs": [],
   "source": [
    "lista = ['codigo', 'nome', 'idade', 'sexo']\n",
    "lista.append('elemento')\n",
    "print(lista)\n"
   ]
  },
  {
   "cell_type": "markdown",
   "metadata": {
    "colab_type": "text",
    "id": "M60UMMkZ44IV"
   },
   "source": [
    "**.copy()**<br><br>\n",
    "\n",
    "copy() Faz uma cópia rasa da lista. Quando se fala de cópia rasa estamos dizendo que ele cria uma cópia da primeira lista. Se por acaso houver listas dentro de listas, as listas internas serão as mesmas. Se alterar-las as outras serão alteradas.\n",
    "\n",
    "exemplo:\n",
    "\n"
   ]
  },
  {
   "cell_type": "code",
   "execution_count": null,
   "metadata": {
    "colab": {},
    "colab_type": "code",
    "id": "Ube9t9ye5s4X"
   },
   "outputs": [],
   "source": [
    "lista_com_listas = [[1,2,3],['a','b','c']]\n",
    "lista_copia = lista_com_listas.copy()\n",
    "\n",
    "print(f'lista_com_listas == lista_copia: {lista_com_listas == lista_copia}')\n",
    "print(f'lista_com_listas is lista_copia: {lista_com_listas is lista_copia}')\n",
    "print()\n",
    "\n",
    "print(\"lista_com_listas[0].append('dado qualquer)\")\n",
    "lista_com_listas[0].append('dado qualquer')\n",
    "print(f'lista_com_listas: {lista_com_listas}')\n",
    "print(f'lista_copia: {lista_copia}')\n",
    "print()\n",
    "\n",
    "print(\"lista_com_listas.append('Adicionando dado na lista rasa')\")\n",
    "lista_com_listas.append('Adicionando dado na lista rasa')\n",
    "print(f'lista_com_listas: {lista_com_listas}')\n",
    "print(f'lista_copia: {lista_copia}')\n"
   ]
  },
  {
   "cell_type": "markdown",
   "metadata": {
    "colab_type": "text",
    "id": "OWmf9lsP5C24"
   },
   "source": [
    "\n",
    "**copy.deepcopy()**\n",
    "\n",
    "O deepcopy ele copia todas as listas quebrando qualquer vinculo com elas.\n",
    "Assim chamamos de cópia profunda (deepcopy).\n",
    "\n",
    "Mesmo que altere o valor em uma lista aninhada, a cópia não será alterada!\n",
    "\n"
   ]
  },
  {
   "cell_type": "code",
   "execution_count": null,
   "metadata": {
    "colab": {},
    "colab_type": "code",
    "id": "bKX7vY_t7x8o"
   },
   "outputs": [],
   "source": [
    "# Para usa-lo devemos importar a biblioteca copy\n",
    "\n",
    "import copy\n",
    "\n",
    "# Criando uma lista para teste:\n",
    "\n",
    "lista_com_listas = [[1,2,3],['a','b','c']]\n",
    "\n",
    "# Criando uma cópia profunda da lista.\n",
    "\n",
    "lista_copia = copy.deepcopy(lista_com_listas)\n",
    "\n",
    "#Verificando se as listas são as mesmas ou iguais\n",
    "\n",
    "print(f'lista_com_listas == lista_copia: {lista_com_listas == lista_copia}')\n",
    "print(f'lista_com_listas is lista_copia: {lista_com_listas is lista_copia}')\n",
    "print()\n",
    "\n",
    "#Adicionando um item dentro da lista e verificando se altera outra lista.\n",
    "\n",
    "lista_com_listas[0].append('dado qualquer')\n",
    "print(f'lista_com_listas: {lista_com_listas}')\n",
    "print(f'lista_copia: {lista_copia}')\n"
   ]
  },
  {
   "cell_type": "markdown",
   "metadata": {
    "colab_type": "text",
    "id": "W85ORQ_35DuY"
   },
   "source": [
    "**.count()**\n",
    "\n",
    "\n",
    "count(valor)\n",
    "\n",
    "Retorna o mumero de ocorrência de um determinado valor dentro da lista.\n",
    "\n",
    "\n"
   ]
  },
  {
   "cell_type": "code",
   "execution_count": null,
   "metadata": {
    "colab": {},
    "colab_type": "code",
    "id": "B1N5gEGm89mf"
   },
   "outputs": [],
   "source": [
    "lista = [1,2,3,'a','b','c',3,'a',3]\n",
    "print('lista.count(3){lista.count(3)}')\n",
    "print()\n",
    "\n",
    "# Atenção: Ele só irá retornar a contagem se o valor estiver na lista rasa. \n",
    "# Se o dado estiver dentro de outra lista o count() não irá reconhecer.\n",
    "\n",
    "lista = [[1,2,3],['a','b','c',3],['a',[3]]]\n",
    "print(f'lista.count(3): {lista.count(3)}')"
   ]
  },
  {
   "cell_type": "markdown",
   "metadata": {
    "colab_type": "text",
    "id": "AbFwJq945GRk"
   },
   "source": [
    "**.extend()**\n",
    "\n",
    "\n",
    "extend(interavel)\n",
    "\n",
    "Adiciona objetos no final da lista interando-os.\n",
    "\n",
    "Um dado interavel é uma sequência que pode ser resultado de uma range() ou uma outra lista.\n"
   ]
  },
  {
   "cell_type": "code",
   "execution_count": null,
   "metadata": {
    "colab": {},
    "colab_type": "code",
    "id": "_ty5QZDc9s-x"
   },
   "outputs": [],
   "source": [
    "lista = [1,2,3,'a','b','c',3,'a',3]\n",
    "lista.extend(range(1,20))\n",
    "print(f'lista: {lista}')\n",
    "print()\n",
    "\n",
    "\n",
    "lista2 = [1,2,3,'a','b','c',3,'a',3]\n",
    "lista2.extend([1,1,1,1,1]) # Inserindo uma lista\n",
    "print(f'lista2: {lista2}')\n"
   ]
  },
  {
   "cell_type": "markdown",
   "metadata": {
    "colab_type": "text",
    "id": "e8wllf6L5IjV"
   },
   "source": [
    "**.insert()**\n",
    "\n",
    "insert(índice,objeto)\n",
    "\n",
    "Insire o objeto na posição indicada (índice).\n",
    "\n"
   ]
  },
  {
   "cell_type": "code",
   "execution_count": null,
   "metadata": {
    "colab": {},
    "colab_type": "code",
    "id": "VyljaPgXCSGs"
   },
   "outputs": [],
   "source": [
    "lista = [1,2,3,'a','b','c',3,'a',3]\n",
    "lista.insert(4,'inserção na posição 4')\n",
    "print(f'lista: {lista}')\n"
   ]
  },
  {
   "cell_type": "markdown",
   "metadata": {
    "colab_type": "text",
    "id": "MfDPtkaH5KZo"
   },
   "source": [
    "**.index()**\n",
    "\n",
    "index(valor, inicio=0, fim=2147483647)\n",
    "\n",
    "Retorna a posição na lista do valor solicitado. \n",
    "\n",
    "Pode colocar o numero da posição inicial (inicio) e final (fim) para o \n",
    "programa procurar. O programa procura até a posição 2147483647!\n",
    "\n",
    "\n",
    "\n",
    "\n",
    "\n"
   ]
  },
  {
   "cell_type": "code",
   "execution_count": null,
   "metadata": {
    "colab": {},
    "colab_type": "code",
    "id": "I0r42zEeBTlK"
   },
   "outputs": [],
   "source": [
    "lista = [1, 2, 3, 'a', 'inserção na posição 4', 'b', 'c', 3, 'a', 3]\n",
    "print(f\"lista.index('b'): {lista.index('b')}\")\n",
    "print(f\"lista.index('c',0,7): {lista.index('c',0,7)}\")\n"
   ]
  },
  {
   "cell_type": "markdown",
   "metadata": {
    "colab_type": "text",
    "id": "7ptMFqVs5O4N"
   },
   "source": [
    "**.sort()**\n",
    "\n",
    "sort(reverse=True/False)\n",
    "Ele ordena os valores de menor para maior. \n",
    "\n",
    "Caso o reverse estiver como True ele irá inverter do maior para menor. \n",
    "\n",
    "**Atenção**!\n",
    "\n",
    "Os dados devem ser todos string ou numérico. Não pode haver mistura dos dois tipos na lista a ser ordenada.\n",
    "\n",
    "```\n",
    ">>> lista\n",
    "[1, 2, 3, 'a', 'inserção na posição 4', 'b', 'c', 3, 'a', 3]\n",
    ">>> lista.sort()\n",
    "Traceback (most recent call last):\n",
    "  File \"<pyshell#178>\", line 1, in <module>\n",
    "    lista.sort()\n",
    "TypeError: '<' not supported between instances of 'str' and 'int'\n",
    "\n",
    "\n",
    "```\n",
    "\n"
   ]
  },
  {
   "cell_type": "code",
   "execution_count": null,
   "metadata": {
    "colab": {},
    "colab_type": "code",
    "id": "5NRTy13CAeS2"
   },
   "outputs": [],
   "source": [
    "lista = [8,3,4,9,4,5,3,1,8,2,4,10,564,45,450]\n",
    "\n",
    "# Ordenando a lista!\n",
    "\n",
    "lista.sort()\n",
    "print(f'lista ordenada: {lista}')\n",
    "print()\n",
    "\n",
    "# Ordenando a lista reversamente!\n",
    "\n",
    "lista = [8,3,4,9,4,5,3,1,8,2,4,10,564,45,450]\n",
    "lista.sort(reverse=True)\n",
    "print(f'lista ordenada inversamente: {lista}')\n"
   ]
  },
  {
   "cell_type": "markdown",
   "metadata": {
    "colab_type": "text",
    "id": "VLpqkmg55Swk"
   },
   "source": [
    "**.reverse()**\n",
    "\n",
    "reverse()\n",
    "\n",
    "Ele reverte a ordem da lista. Ele não ordena, só altera a posição para a \n",
    "posição inversa.\n",
    "\n"
   ]
  },
  {
   "cell_type": "code",
   "execution_count": null,
   "metadata": {
    "colab": {},
    "colab_type": "code",
    "id": "u_UmMEMx_8r5"
   },
   "outputs": [],
   "source": [
    "lista = [8,3,4,9,4,5,3,1,8,2,4,10,564,45,450]\n",
    "print(f'lista: {lista}')\n",
    "lista.reverse()\n",
    "print(f'lista revertida: {lista}')\n",
    "\n",
    "lista.reverse()\n",
    "print(f'lista re-revertida: {lista}')\n"
   ]
  },
  {
   "cell_type": "markdown",
   "metadata": {
    "colab_type": "text",
    "id": "fvxBBT6t5Wbs"
   },
   "source": [
    "**.pop()**\n",
    "\n",
    "pop(indice)\n",
    "\n",
    "Remove o objeto na posição indicada e retorna o valor removido.\n",
    "\n",
    "Caso não indique o indice do arquivo o .pop() irá remover o ultimo item \n",
    "da lista. \n",
    "\n",
    "Note que o .pop() retorna o valor removido. O mesmo pode ser salvo em uma variável.\n",
    "\n",
    "\n",
    "\n"
   ]
  },
  {
   "cell_type": "code",
   "execution_count": null,
   "metadata": {
    "colab": {},
    "colab_type": "code",
    "id": "ZoTuuPCL-61g"
   },
   "outputs": [],
   "source": [
    "\n",
    "lista = [8,3,4,9,4,5,3,1,8,2,4,10,564,45,450]\n",
    "print(f'lista: {lista}')\n",
    "print(f'lista.pop(): {lista.pop()}')\n",
    "print(f'lista: {lista}')\n",
    "\n",
    "variavel = lista.pop()\n",
    "print(f'variavel: {variavel}')\n",
    "print()\n",
    "\n",
    "\n",
    ">>> lista = [8, 3, 4, 9, 4, 5, 3, 1, 8, 2, 4, 10, 564]\n",
    "\n",
    "# Agora vamos remover o item na terceira posição:\n",
    "\n",
    "print(f'lista.pop(): {lista.pop(3)}')\n",
    "print(f'lista: {lista}')"
   ]
  },
  {
   "cell_type": "markdown",
   "metadata": {
    "colab_type": "text",
    "id": "RWc8cQgG5a2j"
   },
   "source": [
    "**.remove()**\n",
    "\n",
    "remove(valor)\n",
    "\n",
    "remove a primeira ocorrência do valor digitado.\n",
    "\n",
    "Neste caso o item removido não é retornado para o programa."
   ]
  },
  {
   "cell_type": "code",
   "execution_count": null,
   "metadata": {
    "colab": {},
    "colab_type": "code",
    "id": "9AxJ96qx-nin"
   },
   "outputs": [],
   "source": [
    "lista = [8, 3, 4, 4, 5, 3, 1, 8, 2, 4, 10, 564]\n",
    "print(f'lista: {lista}')\n",
    "print()\n",
    "lista.remove(3)\n",
    "print(f'lista: {lista}')\n"
   ]
  },
  {
   "cell_type": "markdown",
   "metadata": {
    "colab_type": "text",
    "id": "VxxPrRXT5cXR"
   },
   "source": [
    "**.clear()**\n",
    "\n",
    "clear()\n",
    "\n",
    "remove todos os itens da lista\n"
   ]
  },
  {
   "cell_type": "code",
   "execution_count": null,
   "metadata": {
    "colab": {},
    "colab_type": "code",
    "id": "SII9TVjy-Snk"
   },
   "outputs": [],
   "source": [
    "lista = [8, 4, 4, 5, 3, 1, 8, 2, 4, 10, 564]\n",
    "print(f'lista: {lista}')\n",
    "print()\n",
    "\n",
    "lista.clear()\n",
    "print(f'lista: {lista}')"
   ]
  }
 ],
 "metadata": {
  "colab": {
   "collapsed_sections": [],
   "name": "Lista 03 Funcoes e metodos.ipynb",
   "provenance": []
  },
  "kernelspec": {
   "display_name": "Python 3",
   "language": "python",
   "name": "python3"
  },
  "language_info": {
   "codemirror_mode": {
    "name": "ipython",
    "version": 3
   },
   "file_extension": ".py",
   "mimetype": "text/x-python",
   "name": "python",
   "nbconvert_exporter": "python",
   "pygments_lexer": "ipython3",
   "version": "3.7.3"
  }
 },
 "nbformat": 4,
 "nbformat_minor": 1
}
