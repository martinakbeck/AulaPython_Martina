{
 "cells": [
  {
   "cell_type": "markdown",
   "metadata": {
    "colab_type": "text",
    "id": "b6MeoXS9C5nh"
   },
   "source": [
    "<h1>EXERCÍCIOS</h1>"
   ]
  },
  {
   "cell_type": "markdown",
   "metadata": {
    "colab_type": "text",
    "id": "KlN1NPeTDCEw"
   },
   "source": [
    "Para poder fazer os execicíos é necessário executar o próximo bloco.\n",
    "\n",
    "Este bloco possui funções para gerar as listas necessárias.\n",
    "\n",
    "Estas listas são aleatórias, pois não nos interessam o conteúdo da lista e sim a aplicação dos mentódos e funções aprendeidos.\n",
    "\n",
    "Bons Estudos!"
   ]
  },
  {
   "cell_type": "code",
   "execution_count": 1,
   "metadata": {
    "colab": {},
    "colab_type": "code",
    "id": "rAISCcyXC1J9"
   },
   "outputs": [],
   "source": [
    "import random\n",
    "from random import randint\n",
    " \n",
    "def lista_simples_int_str(numero_objetos = int(random.randint(5,100))):\n",
    "    '''\n",
    "    Retorna lista randômica, pura, composta de string ou inteiros, variando de 5 a 100 itens.\n",
    "\n",
    "    '''\n",
    "    tipo_lista = int(random.randint(0,1))\n",
    "    if tipo_lista == 0:\n",
    "        lista = lista_simples_str(numero_objetos)\n",
    "    else:\n",
    "        lista = lista_simples_int(numero_objetos)\n",
    "    return lista\n",
    "\n",
    "def lista_simples_inpura_int_str(numero_objetos = int(random.randint(5,100))):\n",
    "    '''\n",
    "    Retorna lista randômica, impura, composta de string, inteiros ou alfanúmerica, variando de 5 a 100 itens.\n",
    "\n",
    "    '''\n",
    "    tipo_lista = int(random.randint(0,2))\n",
    "    if tipo_lista == 0:\n",
    "        lista = lista_simples_str(numero_objetos)\n",
    "    elif tipo_lista == 1:\n",
    "        lista = lista_simples_impura(numero_objetos)\n",
    "    else:\n",
    "        lista = lista_simples_int(numero_objetos)\n",
    "    return lista\n",
    "\n",
    "def lista_simples_int(numero_objetos = int(random.randint(5,100))):\n",
    "    '''\n",
    "    Retorna uma lista randômica com inteiros contendo de 5 a 100 itens.\n",
    "    '''\n",
    "    lista = []\n",
    "    for i in range(numero_objetos):\n",
    "        lista.append(int(random.randint(1,1000)))\n",
    "    return lista\n",
    "\n",
    "def lista_simples_str(numero_objetos = int(random.randint(5,100))):\n",
    "    '''\n",
    "    Retorna uma lista randômica com string, de 1 a 10 caracteres, contendo de 5 a 100 itens.\n",
    "    Os caracteres podem ser minusculos ou maiusculos.\n",
    "    '''\n",
    "    lista_alfabetica = ['a', 'b', 'c', 'd', 'e', 'f', 'g', \n",
    "                        'h', 'i', 'j', 'k', 'l', 'm', 'n',\n",
    "                        'o', 'p', 'q', 'r', 's', 't', 'u',\n",
    "                        'v', 'w', 'x', 'y', 'z']\n",
    "    lista = []\n",
    "    for i in range(numero_objetos):\n",
    "        letra = ''\n",
    "        for i in range(int(random.randint(1,10))):\n",
    "            char = random.choice(lista_alfabetica)\n",
    "            if int(random.randint(0,1)) == 1:\n",
    "                letra = letra + char.upper()\n",
    "            else:\n",
    "                letra = letra + char\n",
    "        lista.append(letra)\n",
    "    return lista\n",
    "\n",
    "def lista_simples_impura(numero_objetos = int(random.randint(5,100))):\n",
    "    '''\n",
    "    Retorna uma lista randômica com alfanumérica, de 1 a 10 caracteres, numeros de 0 a 1000,\n",
    "    contendo de 5 a 100 itens.\n",
    "    Os caracteres podem ser minusculos ou maiusculos.\n",
    "    '''\n",
    "    lista_alfabetica = ['a', 'b', 'c', 'd', 'e', 'f', 'g', \n",
    "                        'h', 'i', 'j', 'k', 'l', 'm', 'n',\n",
    "                        'o', 'p', 'q', 'r', 's', 't', 'u',\n",
    "                        'v', 'w', 'x', 'y', 'z', '0', '1',\n",
    "                        '2', '3', '4', '5', '6', '7', '8',\n",
    "                        '9']\n",
    "    lista = []\n",
    "    for i in range(numero_objetos):\n",
    "        letra = ''\n",
    "        if int(random.randint(0,1)) == 0:\n",
    "            lista.append(random.randint(0,1000))\n",
    "        else:\n",
    "            for i in range(int(random.randint(1,10))):\n",
    "                char = random.choice(lista_alfabetica)\n",
    "                if int(random.randint(0,1)) == 0:\n",
    "                    letra = letra + char.upper()\n",
    "                else: \n",
    "                    letra = letra + char\n",
    "            lista.append(letra)\n",
    "    return lista\n",
    "\n",
    "            \n",
    "def lista_lista_int():\n",
    "    pass\n",
    "\n",
    "\n",
    "def embaralhar(numero=3,numero_objetos=30,lista_return=None):\n",
    "    '''\n",
    "    Cria uma lista contendo várias listas, inteiras com 30 itens. Ela irá copiar estas listas e \n",
    "    embaralhar de forma que não se sabe se as listas são as mesmas ou são somente iguais!\n",
    "    '''\n",
    "    lista = []\n",
    "    lista1 = []\n",
    "    lista2 = []\n",
    "    for i in range(numero):\n",
    "        lista1.append(lista_simples_int(numero_objetos))\n",
    "\n",
    "    for i in lista1:\n",
    "        lista2.append(i.copy())\n",
    "    lista1.extend(lista2)\n",
    "    # quntas listas deve ser retornadas!\n",
    "    if lista_return == None:\n",
    "        for i in lista1:\n",
    "            lista.append(random.choice(lista1))\n",
    "    else:\n",
    "        for i in range(lista_return):\n",
    "            lista.append(random.choice(lista1))\n",
    "    \n",
    "    return lista\n",
    "\n",
    "\n",
    "def embaralhar_int_str_hard(numero=3,numero_objetos=30):\n",
    "    '''\n",
    "    Cria uma lista contendo várias listas, inteiras, string ou alfanunéricas com vários itens.\n",
    "    Ela irá copiar estas listas e embaralhar de forma que não se sabe se as listas são as mesmas \n",
    "    ou são somente iguais!\n",
    "    '''\n",
    "    lista = []\n",
    "    lista1 = []\n",
    "    lista2 = []\n",
    "    for i in range(numero):\n",
    "        lista1.append(lista_simples_inpura_int_str(numero_objetos))\n",
    "\n",
    "    for i in lista1:\n",
    "        lista2.append(i.copy())\n",
    "    lista1.extend(lista2)\n",
    "    multiplicador = random.randint(1,25)\n",
    "    for i in range(len(lista1) * multiplicador):\n",
    "        lista.append(random.choice(lista1))\n",
    "    \n",
    "    return lista\n",
    "\n",
    "\n",
    "def binario (numero_objetos=8):\n",
    "    lista = []\n",
    "    for i in range(numero_objetos):\n",
    "        lista.append(random.randint(0,1))\n",
    "    return lista"
   ]
  },
  {
   "cell_type": "markdown",
   "metadata": {
    "colab_type": "text",
    "id": "_8HfGv85D584"
   },
   "source": [
    "\n",
    "\n",
    "---\n",
    "\n"
   ]
  },
  {
   "cell_type": "markdown",
   "metadata": {
    "colab_type": "text",
    "id": "N_rci67lD7Lu"
   },
   "source": [
    "1) Com as listas aleatórias (lista1,lista2,lista3) e usando as funções para listas, f-string, responda as seguintes questões:"
   ]
  },
  {
   "cell_type": "code",
   "execution_count": 9,
   "metadata": {
    "colab": {},
    "colab_type": "code",
    "id": "BtW5D-ZoEMjw"
   },
   "outputs": [],
   "source": [
    "# Execute este código para gerar as listas\n",
    "\n",
    "lista1 = lista_simples_int(int(random.randint(5,100)))\n",
    "lista2 = lista_simples_int(int(random.randint(5,101)))\n",
    "lista3 = lista_simples_int(int(random.randint(5,102)))"
   ]
  },
  {
   "cell_type": "markdown",
   "metadata": {
    "colab_type": "text",
    "id": "-EN_WcXvIbqG"
   },
   "source": [
    "1.1) Qual é o tamanho da lista1?"
   ]
  },
  {
   "cell_type": "code",
   "execution_count": 10,
   "metadata": {
    "colab": {},
    "colab_type": "code",
    "id": "49d6miIdIbAZ"
   },
   "outputs": [
    {
     "name": "stdout",
     "output_type": "stream",
     "text": [
      "[470, 294, 649, 605, 102, 386, 236, 364]\n",
      "\n",
      "[860, 539, 929, 127, 591, 782, 968, 522, 364, 400, 589, 834, 258, 328, 147, 100, 268, 403, 68, 880, 315, 662, 827, 656, 730, 837, 100, 368, 402, 139, 409, 356, 817, 651, 574, 927, 642, 752, 938, 807, 374, 749, 295, 670, 594, 131, 83, 345, 829, 498, 284, 370, 804, 572, 448, 986, 928, 253, 300, 951, 969, 33, 768, 159, 266, 721, 930, 214, 73, 104, 675, 511, 308, 553, 774, 943, 796, 198, 703, 430]\n",
      "\n",
      "[919, 560, 641, 983, 588, 795, 935, 177, 289, 396, 288, 598, 142, 990, 476, 291]\n"
     ]
    }
   ],
   "source": [
    "print(lista1)\n",
    "print()\n",
    "print(lista2)\n",
    "print()\n",
    "print(lista3)"
   ]
  },
  {
   "cell_type": "markdown",
   "metadata": {
    "colab_type": "text",
    "id": "-Lf5RvyRIgLl"
   },
   "source": [
    "1.2) Qual é o maior valor da lista2?"
   ]
  },
  {
   "cell_type": "code",
   "execution_count": null,
   "metadata": {
    "colab": {},
    "colab_type": "code",
    "id": "ywRnft-_Ih6X"
   },
   "outputs": [],
   "source": []
  },
  {
   "cell_type": "markdown",
   "metadata": {
    "colab_type": "text",
    "id": "peW06mmBIjiq"
   },
   "source": [
    "1.3) Qual seria a soma do maior valor com o menor valor da lista2?"
   ]
  },
  {
   "cell_type": "code",
   "execution_count": null,
   "metadata": {
    "colab": {},
    "colab_type": "code",
    "id": "CK-QG4oRIk_u"
   },
   "outputs": [],
   "source": []
  },
  {
   "cell_type": "markdown",
   "metadata": {
    "colab_type": "text",
    "id": "EuPwIVJJIlmM"
   },
   "source": [
    "1.4) Qual é a média aritmética da lista1?"
   ]
  },
  {
   "cell_type": "code",
   "execution_count": null,
   "metadata": {
    "colab": {},
    "colab_type": "code",
    "id": "5JpWJTyEIm_9"
   },
   "outputs": [],
   "source": []
  },
  {
   "cell_type": "markdown",
   "metadata": {
    "colab_type": "text",
    "id": "qOzzwI_gIniJ"
   },
   "source": [
    "1.5) Qual o valor da soma de todas as listas e a soma total delas?\n",
    "\n",
    "Quero que mostre a soma individual (por lista) e a soma total de todas elas (soma das somas das listas)\n"
   ]
  },
  {
   "cell_type": "code",
   "execution_count": null,
   "metadata": {
    "colab": {},
    "colab_type": "code",
    "id": "ophamMbwIr6x"
   },
   "outputs": [],
   "source": []
  },
  {
   "cell_type": "markdown",
   "metadata": {
    "colab_type": "text",
    "id": "I9zUI5LuIsXx"
   },
   "source": [
    "1.6) Usando o f-string, imprima todos os valores da lista1 um de baixo do outro."
   ]
  },
  {
   "cell_type": "code",
   "execution_count": null,
   "metadata": {
    "colab": {},
    "colab_type": "code",
    "id": "4XBbi6WUIu1d"
   },
   "outputs": [],
   "source": []
  },
  {
   "cell_type": "markdown",
   "metadata": {
    "colab_type": "text",
    "id": "AXFYggRNIvGT"
   },
   "source": [
    "1.7) Com a indexação e f-string, mostre o valor das posições 5, 9, 10 e 25 de cada lista.\n",
    "\n",
    "Trate para evitar o erro: IndexError"
   ]
  },
  {
   "cell_type": "code",
   "execution_count": null,
   "metadata": {
    "colab": {},
    "colab_type": "code",
    "id": "2g0nO4PZI3sL"
   },
   "outputs": [],
   "source": []
  },
  {
   "cell_type": "markdown",
   "metadata": {
    "colab_type": "text",
    "id": "HSnmFFvtI7x3"
   },
   "source": [
    "1.8) Mostre qual das listas tem mais itens \n",
    "\n",
    "(lembre-se, as listas são randômicas, não há como prever o tamanho delas)."
   ]
  },
  {
   "cell_type": "code",
   "execution_count": null,
   "metadata": {
    "colab": {},
    "colab_type": "code",
    "id": "LowN8D0IJAI5"
   },
   "outputs": [],
   "source": []
  },
  {
   "cell_type": "markdown",
   "metadata": {
    "colab_type": "text",
    "id": "_mzwZcKRJAZj"
   },
   "source": [
    "1.9) Some os maiores números de todas as listas e subtraia pelo menor número dos menores valores das listas.\n",
    "\n",
    "Para obter o menor valor, pegue o menor valor das listas e veja qual deles é o menor e use ele."
   ]
  },
  {
   "cell_type": "code",
   "execution_count": null,
   "metadata": {
    "colab": {},
    "colab_type": "code",
    "id": "k8CRAPsyJD3B"
   },
   "outputs": [],
   "source": []
  },
  {
   "cell_type": "markdown",
   "metadata": {
    "colab_type": "text",
    "id": "80ibvGSVJEVq"
   },
   "source": [
    "1.10) Pegue o maior valor de todas as listas e some com o menor valor de todas as listas"
   ]
  },
  {
   "cell_type": "code",
   "execution_count": null,
   "metadata": {
    "colab": {},
    "colab_type": "code",
    "id": "tVQ07WZ2JHMl"
   },
   "outputs": [],
   "source": []
  },
  {
   "cell_type": "markdown",
   "metadata": {
    "colab_type": "text",
    "id": "COnI1HnEJJGG"
   },
   "source": [
    "\n",
    "\n",
    "---\n",
    "\n"
   ]
  },
  {
   "cell_type": "markdown",
   "metadata": {
    "colab_type": "text",
    "id": "v1EIN8SnJJ3q"
   },
   "source": [
    "2) A função embaralhar() irá criar listas aleátorias, copiar-las, e embaralhar. \n",
    "\n",
    "Desta forma não se sabe se as listas são iguais ou se as listas são as mesmas. Como defult ela irá criar 3 listas diferentes com 30 itens, copiálas e embaralar randomicamente, retornando uma lista com o dobro (6) de itens."
   ]
  },
  {
   "cell_type": "code",
   "execution_count": null,
   "metadata": {
    "colab": {},
    "colab_type": "code",
    "id": "xc_vHTyeJr1j"
   },
   "outputs": [],
   "source": [
    "# Execute este código para gerar as listas\n",
    "\n",
    "lista = embaralhar(2,10)\n",
    "\n",
    "a = lista[0]\n",
    "b = lista[1]\n",
    "c = lista[2]\n",
    "d = lista[3]\n",
    "\n",
    "print(a)\n",
    "print(b)\n",
    "print(c)\n",
    "print(d)\n",
    "print()\n",
    "\n",
    "# Neste caso, ele irá criar 2 listas com 10 itens, e retornará\n",
    "# uma lista com 4 listas podendo cada uma ser cópia ou uma só.\n",
    "lista = embaralhar(2,10,2)\n",
    "print(lista)"
   ]
  },
  {
   "cell_type": "markdown",
   "metadata": {
    "colab_type": "text",
    "id": "KqaX5D7XK4p3"
   },
   "source": [
    "2.1) Analisnado a lista gerada (possui 2 listas), diga se as duas listas são elas mesmas (is) ou são somente iguais (==)."
   ]
  },
  {
   "cell_type": "code",
   "execution_count": null,
   "metadata": {
    "colab": {},
    "colab_type": "code",
    "id": "LoiUZMfwK91L"
   },
   "outputs": [],
   "source": []
  },
  {
   "cell_type": "markdown",
   "metadata": {
    "colab_type": "text",
    "id": "a1jA4vCvK-Rb"
   },
   "source": [
    "2.2) Qual é o maior valor destas duas listas"
   ]
  },
  {
   "cell_type": "code",
   "execution_count": null,
   "metadata": {
    "colab": {},
    "colab_type": "code",
    "id": "r_dd0npzLBb3"
   },
   "outputs": [],
   "source": []
  },
  {
   "cell_type": "markdown",
   "metadata": {
    "colab_type": "text",
    "id": "ulFdeixNLBzq"
   },
   "source": [
    "2.3) Qual é o maior valor de cada lista"
   ]
  },
  {
   "cell_type": "code",
   "execution_count": null,
   "metadata": {
    "colab": {},
    "colab_type": "code",
    "id": "k-uhXO5gLGBW"
   },
   "outputs": [],
   "source": []
  },
  {
   "cell_type": "markdown",
   "metadata": {
    "colab_type": "text",
    "id": "peviZGYqLGjP"
   },
   "source": [
    "2.4) Há o número 10 dentro da lista[0]?"
   ]
  },
  {
   "cell_type": "code",
   "execution_count": null,
   "metadata": {
    "colab": {},
    "colab_type": "code",
    "id": "u6BhwanYLJ-y"
   },
   "outputs": [],
   "source": []
  },
  {
   "cell_type": "markdown",
   "metadata": {
    "colab_type": "text",
    "id": "WfmL3_nZLKg_"
   },
   "source": [
    "2.5) Há o número 20 dentro da lista[1]?"
   ]
  },
  {
   "cell_type": "code",
   "execution_count": null,
   "metadata": {
    "colab": {},
    "colab_type": "code",
    "id": "Pm3m5NoZLO9S"
   },
   "outputs": [],
   "source": []
  },
  {
   "cell_type": "markdown",
   "metadata": {
    "colab_type": "text",
    "id": "K2DwMDB3LPYe"
   },
   "source": [
    "2.6) Quantos números da lista[0] tem dentro da lista[1]?"
   ]
  },
  {
   "cell_type": "code",
   "execution_count": null,
   "metadata": {
    "colab": {},
    "colab_type": "code",
    "id": "9KaUGOIgLRzG"
   },
   "outputs": [],
   "source": []
  },
  {
   "cell_type": "markdown",
   "metadata": {
    "colab_type": "text",
    "id": "HV5EEykhLUAM"
   },
   "source": [
    "2.7) Mostre os números da lista[0] que estão dentro da lista[1]"
   ]
  },
  {
   "cell_type": "code",
   "execution_count": null,
   "metadata": {
    "colab": {},
    "colab_type": "code",
    "id": "eEAffC2iLWkT"
   },
   "outputs": [],
   "source": []
  },
  {
   "cell_type": "markdown",
   "metadata": {
    "colab_type": "text",
    "id": "ZiLJBcE_LXYH"
   },
   "source": [
    "2.8) Mutliplique a soma da lista[0] com cada item da lista[1]"
   ]
  },
  {
   "cell_type": "code",
   "execution_count": null,
   "metadata": {
    "colab": {},
    "colab_type": "code",
    "id": "QS8wBJgZLZ7Q"
   },
   "outputs": [],
   "source": []
  },
  {
   "cell_type": "markdown",
   "metadata": {
    "colab_type": "text",
    "id": "u2Qa32PQLaZA"
   },
   "source": [
    "2.9) Faça uma divizão inteira do maior número da lista pelo menor numero da lista. \n",
    "\n",
    "Após verifique se o resultado está dentro de uma das listas, se sim, diga qual!\n",
    "\n",
    "Exemplo:\n",
    "```\n",
    "lista = [[1,2,3],[4,5,6]]\n",
    "```\n",
    "O maior elemento da lista é 5 e mo menor é o 1.<br>\n",
    "5//1 = 5<br>\n",
    "5 está na lista[1]"
   ]
  },
  {
   "cell_type": "code",
   "execution_count": null,
   "metadata": {
    "colab": {},
    "colab_type": "code",
    "id": "GXdBNnD2Mg4F"
   },
   "outputs": [],
   "source": []
  },
  {
   "cell_type": "markdown",
   "metadata": {
    "colab_type": "text",
    "id": "jCDhb9jmMptS"
   },
   "source": [
    "2.10) Ferifique se o maior número da lista[0] está dentro da lista[1] e se o menor número da lista[1] está na lista[0]."
   ]
  },
  {
   "cell_type": "markdown",
   "metadata": {
    "colab_type": "text",
    "id": "hNrYEhdlMwSk"
   },
   "source": [
    "\n",
    "\n",
    "---\n",
    "\n"
   ]
  },
  {
   "cell_type": "markdown",
   "metadata": {
    "colab_type": "text",
    "id": "vi2wX-I2Mxk9"
   },
   "source": [
    "3) Escreva uma função chamada nested_sum que receba a lista de listas de números inteiros (lista1), retorne uma lista única e print a soma de todos os elementos.\n",
    "\n",
    "```\n",
    "# Por exemplo:\n",
    "\n",
    ">>> t = [[1, 2], [3], [4, 5, 6]]\n",
    ">>> lista = nested_sum(t)\n",
    "21\n",
    ">>> lista\n",
    "[1, 2, 3, 4, 5, 6]\n",
    "```\n",
    "\n",
    "\n",
    "\n"
   ]
  },
  {
   "cell_type": "code",
   "execution_count": null,
   "metadata": {
    "colab": {},
    "colab_type": "code",
    "id": "j59ZcXOkOyVu"
   },
   "outputs": [],
   "source": [
    "####################### Não apagar!\n",
    "lista1 = [lista_simples_int() ,lista_simples_int(), lista_simples_int()]\n",
    "#######################\n",
    "\n"
   ]
  },
  {
   "cell_type": "markdown",
   "metadata": {
    "colab_type": "text",
    "id": "n3KVRL-8O-RL"
   },
   "source": [
    "4) Com as seguintes listas, transforme em uma string para poder gravar (futuramente) em um arquivo!\n",
    "\n"
   ]
  },
  {
   "cell_type": "code",
   "execution_count": 32,
   "metadata": {
    "colab": {},
    "colab_type": "code",
    "id": "zR8UcBKnPIjZ"
   },
   "outputs": [],
   "source": [
    "####################### Não apagar!\n",
    "lista_cadastro = ['codigo', 'cpf', 'nome_completo', 'data_de_nascimento',\n",
    "                  'estado', 'cidade', 'cep', 'bairro', 'rua', 'numero', 'complemento']\n",
    "\n",
    "lista_cadastrados = ['1', '11111111111', 'João Carlos', '12/12/90',\n",
    "                     'SC', 'Camboriú', '8833', 'Tabuleiro', 'Cerejeiras', '45', 'ap 101']\n",
    " \n",
    "lista_cadastrados1 = ['2', '22222222222', 'Paulo Roberto', '23/01/89',\n",
    "                      'SC', 'Blumenau', '99999', 'Velha', '7 de setembro', '55', '']\n",
    "####################### \n",
    "\n",
    "\n"
   ]
  },
  {
   "cell_type": "markdown",
   "metadata": {
    "colab_type": "text",
    "id": "6VH0yq-pPbU4"
   },
   "source": [
    "5) Com as seguintes lista, transforme em uma string para poder gravar (futuramente) em um arquivo!\n"
   ]
  },
  {
   "cell_type": "code",
   "execution_count": null,
   "metadata": {
    "colab": {},
    "colab_type": "code",
    "id": "pxJ6x4ZaPjZq"
   },
   "outputs": [],
   "source": [
    "####################### Não apagar!\n",
    "lista_cadastros = [['1', 'Arnaldo', '23', 'm', 'alexcabeludo2@hotmail.com', '014908648117'], ['2', 'Haroldo', '44', 'f', 'baratarebelde@gmail.com', '050923172729'], ['3', 'Pilar', '50', 'm', 'wanderson10sp@gmail.com', '018937341049'], ['4', 'Suzete Salvador', '45', 'f', 'eladiomp2@yahoo.com.br', '056928409823'], ['5', 'Riane', '37', 'f', 'orkutzimpower@terra.com.br', '018916004377'], ['6', 'Waldir', '34', 'f', 'nandah.s2@bol.com.br', '058903756441'], ['7', 'Lilian', '22', 'f', 'arydoido@gmail.com', '031958621596'], ['8', 'Matilde', '20', 'm', 'eu_kaka_@hotmail.com', '012941959390'], ['9', 'Samanta', '19', 'm', 'carro.tuning@yahoo.com.br', '028964480437'], ['10', 'Margarida', '30', 'm', 'paraaconta.08@hotmail.com', '047903547580'], ['11', 'Evelyn', '31', 'm', 'joaosilvaticudo@gmail.com', '053958638386'], ['12', 'Alessio', '29', 'm', 'w.nill02@gmail.com', '033961294774'], ['13', 'Yolanda', '25', 'm', 'patty_karen2005@hotmail.com', '027903312626'], ['14', 'Germana', '33', 'f', 'jarlinhatopdelinhagv@hotmail.com', '053964603415'], ['15', 'Helio', '33', 'f', 'juh.slim@gmail.com', '046997316461'], ['16', 'Liége', '21', 'f', 'gledsonlds@hotmail.com', '056992948431'], ['17', 'Yan', '42', 'm', 'lucapratto@yahoo.com.br', '016963562866'], ['18', 'Silvain', '50', 'f', 'hie.s2@hotmail.com', '021963399433'], ['19', 'Brian', '33', 'f', 'juliagabrielle06@hotmail.com', '027962676732'], ['20', 'Deoclides', '40', 'f', 'patriciamascena@gmail.com', '012961047979'], ['21', 'Jaqueline', '32', 'm', 'aninha183@hotmail.com', '014958997782'], ['22', 'Rosamaria', '45', 'f', 'j_leosao@hotmail.com', '026944672627'], ['23', 'Carla', '42', 'm', 'jhasdfjo@hotmail.com', '046976625208'], ['24', 'Aida Santos', '30', 'f', 'nayara.cristinap@hotmail.com', '034920819199'], ['25', 'Thomas', '19', 'm', 'jfdslinda@bol.com.br', '030974027667'], ['26', 'Naiara', '23', 'm', 'darknees_666@ig.com.br', '018976696717'], ['27', 'Karyne', '17', 'm', 'garotosonhador_1@hotmail.com', '054984689319'], ['28', 'Alenis Dias', '43', 'f', 'vi_vi_cristinaf@hotmail.com', '034980886309'], ['29', 'Grace', '38', 'm', 'amandakell@uol.com.br', '041932906720'], ['30', 'Zacarias', '31', 'm', 'loca.som@hotmail.com', '041926007066']]\n",
    "####################### \n",
    "\n"
   ]
  },
  {
   "cell_type": "markdown",
   "metadata": {
    "colab_type": "text",
    "id": "Z6eNxUZHPqtl"
   },
   "source": [
    "6) Crie uma função que solicite 5 nomes e retorne uma lista com todos eles"
   ]
  },
  {
   "cell_type": "code",
   "execution_count": null,
   "metadata": {
    "colab": {},
    "colab_type": "code",
    "id": "CfEy8ri7PnUl"
   },
   "outputs": [],
   "source": []
  },
  {
   "cell_type": "markdown",
   "metadata": {
    "colab_type": "text",
    "id": "5yIvF148Py2p"
   },
   "source": [
    "7)  Com a lista \"Nomes\", feita no exercicio 6 (anterior) faça uma cópia para 'Nomes2' e adicione o nome \"Pedro Paulada\" no \"Nomes\" e \"Paulo Cacetada\" no \"Nomes2\""
   ]
  },
  {
   "cell_type": "code",
   "execution_count": null,
   "metadata": {
    "colab": {},
    "colab_type": "code",
    "id": "h3swNLXiP6QC"
   },
   "outputs": [],
   "source": []
  },
  {
   "cell_type": "markdown",
   "metadata": {
    "colab_type": "text",
    "id": "NirIm_AkP60j"
   },
   "source": [
    "8) Com a lista 'lista_aninhada' faça uma cópia e nomeie como 'lista_aninhada_2'.\n",
    "\n",
    "Na lista_aninhada adicione ao lado do número 9 o número 10.\n",
    "\n",
    "Na lista_aninhada_2 adicione ao lado do número 8 a frase \"Aqui não pode ter o número 10!\""
   ]
  },
  {
   "cell_type": "code",
   "execution_count": null,
   "metadata": {
    "colab": {},
    "colab_type": "code",
    "id": "tpPl04KvQQEg"
   },
   "outputs": [],
   "source": [
    "####################### Não apagar!\n",
    "lista_aninhada = [1,2,3,[4,5,[7,[9],8],6]]\n",
    "#######################\n",
    "\n",
    "\n"
   ]
  },
  {
   "cell_type": "markdown",
   "metadata": {
    "colab_type": "text",
    "id": "AGPNS8raQPge"
   },
   "source": [
    "9) Continuando o exercicio, adicione a lista Nomes (exercicio 6) na lista_aninhada entre os números 2 e o 3. \n",
    "\n",
    "Na lista_aninhada_2 adicione a \"Pedro Pedroca\" entre os números 4 e 5. \n",
    "\n",
    "Adicione na lista_aninhada, entre os números 1 e 2, a frase 'um, dois' e na lista_aninhada_2, entre os números 1 e 2 a frase 'Adiciono qualquer coisa em qualquer lugar nesta lista!'"
   ]
  },
  {
   "cell_type": "code",
   "execution_count": null,
   "metadata": {
    "colab": {},
    "colab_type": "code",
    "id": "FUuNLjMnQmWj"
   },
   "outputs": [],
   "source": []
  },
  {
   "cell_type": "markdown",
   "metadata": {
    "colab_type": "text",
    "id": "i60jA7y_Qm8Q"
   },
   "source": [
    "10) Com a lista1, ordene os números de maior para menor!"
   ]
  },
  {
   "cell_type": "code",
   "execution_count": null,
   "metadata": {
    "colab": {},
    "colab_type": "code",
    "id": "xUqhAu-oQ1KF"
   },
   "outputs": [],
   "source": [
    "####################### Não apagar!\n",
    "lista1 = lista_simples_int(100)\n",
    "####################### \n",
    "\n",
    "\n"
   ]
  },
  {
   "cell_type": "markdown",
   "metadata": {
    "colab_type": "text",
    "id": "PS5o_MTPQ-CN"
   },
   "source": [
    "11) Com a lista2, ordene os números de menor para maior!"
   ]
  },
  {
   "cell_type": "code",
   "execution_count": null,
   "metadata": {
    "colab": {},
    "colab_type": "code",
    "id": "Rnsfdns3RAtc"
   },
   "outputs": [],
   "source": [
    "####################### Não apagar!\n",
    "lista2 = lista_simples_int(100)\n",
    "####################### \n",
    "\n",
    "\n"
   ]
  },
  {
   "cell_type": "markdown",
   "metadata": {
    "colab_type": "text",
    "id": "W0P5hBF3RDbM"
   },
   "source": [
    "12) Usando o metodo, adicione a lista1 e lista2 (já ordenadas no ex. 10 e 11) na lista0."
   ]
  },
  {
   "cell_type": "code",
   "execution_count": null,
   "metadata": {
    "colab": {},
    "colab_type": "code",
    "id": "nBEdZ0GKRLtb"
   },
   "outputs": [],
   "source": [
    "####################### Não apagar!\n",
    "lista0 = []\n",
    "####################### \n",
    "\n",
    "\n"
   ]
  },
  {
   "cell_type": "markdown",
   "metadata": {
    "colab_type": "text",
    "id": "G3zH1WSqRX7_"
   },
   "source": [
    "13) Ordene a lista0 (ex. 12) e diga qual é o maior valor, menor valor e em quais das listas (lista1 ou lista2) estes pertencem."
   ]
  },
  {
   "cell_type": "code",
   "execution_count": null,
   "metadata": {
    "colab": {},
    "colab_type": "code",
    "id": "s-AmohxPRXak"
   },
   "outputs": [],
   "source": []
  },
  {
   "cell_type": "markdown",
   "metadata": {
    "colab_type": "text",
    "id": "BhnCiV_wRkzZ"
   },
   "source": [
    "14) Com a lista_aninhada e lista_aninhada2, do exercicio 9, remova todas as alterações que nelas foram colocadas. Salve os dados removidos em uma lista e imprima na tela cada item em uma linha usando o f-string (use o .pop() )"
   ]
  },
  {
   "cell_type": "code",
   "execution_count": null,
   "metadata": {
    "colab": {},
    "colab_type": "code",
    "id": "Ei1Yox4sRyBs"
   },
   "outputs": [],
   "source": []
  },
  {
   "cell_type": "markdown",
   "metadata": {
    "colab_type": "text",
    "id": "OkAD-nMnRyiL"
   },
   "source": [
    "15) Remova, usando o .remove(), os seguintes itens destas listas:"
   ]
  },
  {
   "cell_type": "code",
   "execution_count": null,
   "metadata": {
    "colab": {},
    "colab_type": "code",
    "id": "Kx-qCa2jSBt1"
   },
   "outputs": [],
   "source": [
    "# Execute este código para gerar as listas\n",
    "lista_cadastro = ['codigo', 'cpf', 'nome_completo', 'data_de_nascimento',\n",
    "                  'estado', 'cidade', 'cep', 'bairro', 'rua', 'numero', 'complemento']\n",
    "\n",
    "lista_cadastrados = ['1', '11111111111', 'João Carlos', '12/12/90',\n",
    "                  'SC', 'Camboriú', '8833', 'Tabuleiro', 'Cerejeiras', '45', 'ap 101']\n",
    "\n",
    "lista_cadastrados1 = ['2', '22222222222', 'Paulo Roberto', '23/01/89',\n",
    "                  'SC', 'Blumenau', '99999', 'Velha', '7 de setembro', '55', '']"
   ]
  },
  {
   "cell_type": "markdown",
   "metadata": {
    "colab_type": "text",
    "id": "ihdtBmhoSMe-"
   },
   "source": [
    "15.1) cpf da lista_cadastro"
   ]
  },
  {
   "cell_type": "code",
   "execution_count": null,
   "metadata": {
    "colab": {},
    "colab_type": "code",
    "id": "IBAQAdvvSY-X"
   },
   "outputs": [],
   "source": []
  },
  {
   "cell_type": "markdown",
   "metadata": {
    "colab_type": "text",
    "id": "emJ-pT0BSPKN"
   },
   "source": [
    "15.2) camboriú da lista_cadastrados"
   ]
  },
  {
   "cell_type": "code",
   "execution_count": null,
   "metadata": {
    "colab": {},
    "colab_type": "code",
    "id": "vm1C9s1XSce3"
   },
   "outputs": [],
   "source": []
  },
  {
   "cell_type": "markdown",
   "metadata": {
    "colab_type": "text",
    "id": "SHdYIhIwSPUV"
   },
   "source": [
    "15.3) Paulo Roberto da lista_cadastrados1"
   ]
  },
  {
   "cell_type": "code",
   "execution_count": null,
   "metadata": {
    "colab": {},
    "colab_type": "code",
    "id": "4Monb5opSfQx"
   },
   "outputs": [],
   "source": []
  },
  {
   "cell_type": "markdown",
   "metadata": {
    "colab_type": "text",
    "id": "e6d4c8H9SPe7"
   },
   "source": [
    "15.4) rua"
   ]
  },
  {
   "cell_type": "code",
   "execution_count": null,
   "metadata": {
    "colab": {},
    "colab_type": "code",
    "id": "IKCptzIqSiEF"
   },
   "outputs": [],
   "source": []
  },
  {
   "cell_type": "markdown",
   "metadata": {
    "colab_type": "text",
    "id": "7hsTJXqySPoi"
   },
   "source": [
    "15.5) 8833 "
   ]
  },
  {
   "cell_type": "code",
   "execution_count": null,
   "metadata": {
    "colab": {},
    "colab_type": "code",
    "id": "6TPP0aq1SkYl"
   },
   "outputs": [],
   "source": []
  },
  {
   "cell_type": "markdown",
   "metadata": {
    "colab_type": "text",
    "id": "IQ-gR0_hSPzA"
   },
   "source": [
    "15.6) Velha"
   ]
  },
  {
   "cell_type": "code",
   "execution_count": null,
   "metadata": {
    "colab": {},
    "colab_type": "code",
    "id": "2jJ0RRKRSwHj"
   },
   "outputs": [],
   "source": []
  },
  {
   "cell_type": "markdown",
   "metadata": {
    "colab_type": "text",
    "id": "bM7aY7w4SQHQ"
   },
   "source": [
    "15.7) João Carlos"
   ]
  },
  {
   "cell_type": "code",
   "execution_count": null,
   "metadata": {
    "colab": {},
    "colab_type": "code",
    "id": "791JpV0aSxBU"
   },
   "outputs": [],
   "source": []
  },
  {
   "cell_type": "markdown",
   "metadata": {
    "colab_type": "text",
    "id": "skDYuRbSSQQ3"
   },
   "source": [
    "15.8) 11111111111"
   ]
  },
  {
   "cell_type": "code",
   "execution_count": null,
   "metadata": {
    "colab": {},
    "colab_type": "code",
    "id": "7BFKlbHvSxlT"
   },
   "outputs": [],
   "source": []
  },
  {
   "cell_type": "markdown",
   "metadata": {
    "colab_type": "text",
    "id": "L8IScxT4SQcH"
   },
   "source": [
    "15.9) cidade"
   ]
  },
  {
   "cell_type": "code",
   "execution_count": null,
   "metadata": {
    "colab": {},
    "colab_type": "code",
    "id": "D1aiNHE0SyDG"
   },
   "outputs": [],
   "source": []
  },
  {
   "cell_type": "markdown",
   "metadata": {
    "colab_type": "text",
    "id": "FXtl7tIaSP8o"
   },
   "source": [
    "15.10) data_de_nascimento"
   ]
  },
  {
   "cell_type": "code",
   "execution_count": null,
   "metadata": {
    "colab": {},
    "colab_type": "code",
    "id": "VvB9nnUiSzBm"
   },
   "outputs": [],
   "source": []
  },
  {
   "cell_type": "markdown",
   "metadata": {
    "colab_type": "text",
    "id": "HNfFEV_USz-Y"
   },
   "source": [
    "16) Com a lista_fusao mostre com f-strig e o metodo .index() a posição dos seguintes elementos:"
   ]
  },
  {
   "cell_type": "code",
   "execution_count": null,
   "metadata": {
    "colab": {},
    "colab_type": "code",
    "id": "SIoln31OTFsy"
   },
   "outputs": [],
   "source": [
    "# Execute este código para gerar as listas\n",
    "lista_fusao = ['codigo', 'cpf', 'nome_completo', 'data_de_nascimento',\n",
    "                  'estado', 'cidade', 'cep', 'bairro', 'rua', 'numero', 'complemento',\n",
    "                  '1', '11111111111', 'João Carlos', '12/12/90',\n",
    "                  'SC', 'Camboriú', '8833', 'Tabuleiro', 'Cerejeiras', '45', 'ap 101',\n",
    "                  '2', '22222222222', 'Paulo Roberto', '23/01/89',\n",
    "                  'SC', 'Blumenau', '99999', 'Velha', '7 de setembro', '55', '']"
   ]
  },
  {
   "cell_type": "markdown",
   "metadata": {
    "colab_type": "text",
    "id": "OhI_7fniTJ8r"
   },
   "source": [
    "16.1) cidade"
   ]
  },
  {
   "cell_type": "code",
   "execution_count": null,
   "metadata": {
    "colab": {},
    "colab_type": "code",
    "id": "Uha3YYzhTI2h"
   },
   "outputs": [],
   "source": []
  },
  {
   "cell_type": "markdown",
   "metadata": {
    "colab_type": "text",
    "id": "3rIog7NWTLHO"
   },
   "source": [
    "16.2) João Carlos"
   ]
  },
  {
   "cell_type": "code",
   "execution_count": null,
   "metadata": {
    "colab": {},
    "colab_type": "code",
    "id": "grhxiSiOTI-I"
   },
   "outputs": [],
   "source": []
  },
  {
   "cell_type": "markdown",
   "metadata": {
    "colab_type": "text",
    "id": "EPQkqFCQTSXH"
   },
   "source": [
    "16.3) Camboriú"
   ]
  },
  {
   "cell_type": "code",
   "execution_count": null,
   "metadata": {
    "colab": {},
    "colab_type": "code",
    "id": "lw9l5dLWTmMD"
   },
   "outputs": [],
   "source": []
  },
  {
   "cell_type": "markdown",
   "metadata": {
    "colab_type": "text",
    "id": "TplXxTGFTTg8"
   },
   "source": [
    "16.4) 12/12/90"
   ]
  },
  {
   "cell_type": "code",
   "execution_count": null,
   "metadata": {
    "colab": {},
    "colab_type": "code",
    "id": "9fXy953MTmjs"
   },
   "outputs": [],
   "source": []
  },
  {
   "cell_type": "markdown",
   "metadata": {
    "colab_type": "text",
    "id": "u0loYJ6ATTtv"
   },
   "source": [
    "16.5) 99999"
   ]
  },
  {
   "cell_type": "code",
   "execution_count": null,
   "metadata": {
    "colab": {},
    "colab_type": "code",
    "id": "cy8awWKMTm5T"
   },
   "outputs": [],
   "source": []
  },
  {
   "cell_type": "markdown",
   "metadata": {
    "colab_type": "text",
    "id": "PhlPai-yTT5f"
   },
   "source": [
    "16.6) nome_completo"
   ]
  },
  {
   "cell_type": "code",
   "execution_count": null,
   "metadata": {
    "colab": {},
    "colab_type": "code",
    "id": "YU2xUME3TnP8"
   },
   "outputs": [],
   "source": []
  },
  {
   "cell_type": "markdown",
   "metadata": {
    "colab_type": "text",
    "id": "MmvO3yNvTUGD"
   },
   "source": [
    "16.7) 22222222222"
   ]
  },
  {
   "cell_type": "code",
   "execution_count": null,
   "metadata": {
    "colab": {},
    "colab_type": "code",
    "id": "CLkjlyB9Tnmb"
   },
   "outputs": [],
   "source": []
  },
  {
   "cell_type": "markdown",
   "metadata": {
    "colab_type": "text",
    "id": "i-7j6bSgTUSh"
   },
   "source": [
    "16.8) Tabuleiro"
   ]
  },
  {
   "cell_type": "code",
   "execution_count": null,
   "metadata": {
    "colab": {},
    "colab_type": "code",
    "id": "elC5snOFTn9w"
   },
   "outputs": [],
   "source": []
  },
  {
   "cell_type": "markdown",
   "metadata": {
    "colab_type": "text",
    "id": "k1qyRd1nTUef"
   },
   "source": [
    "16.9) numero\n"
   ]
  },
  {
   "cell_type": "code",
   "execution_count": null,
   "metadata": {
    "colab": {},
    "colab_type": "code",
    "id": "qLjgXKUEToUq"
   },
   "outputs": [],
   "source": []
  },
  {
   "cell_type": "markdown",
   "metadata": {
    "colab_type": "text",
    "id": "35G_BcGFUAPK"
   },
   "source": [
    "17) Usando o metodo .index(), Crie uma função que localize a posição dos seguintes nomes: \n",
    "\n",
    "Germana, Deoclides, Zacarias, Karyne, Helio, Silvain, Aida Santos\n",
    "\n",
    "Esta função deve receber como parametro a lista_cadastros e o nome. Deve retornar uma lista contendo o endereço do nome na lista_cadastros. \n",
    "\n",
    "Exemplo:\n",
    "```\n",
    ">>> lista = localize(lista_cadastros,'Alenis Dias')\n",
    ">>> lista_cadastros[ lista[0] ][ lista[1] ]\n",
    "'Alenis Dias'\n",
    "```\n",
    "Dica: Use o tratamento de ecessões para evitar erro ao procurar um indice que não existe!"
   ]
  },
  {
   "cell_type": "code",
   "execution_count": null,
   "metadata": {
    "colab": {},
    "colab_type": "code",
    "id": "WlmPsT1kUVbQ"
   },
   "outputs": [],
   "source": [
    "####################### Não apagar!\n",
    "lista_cadastros = [['1', 'Arnaldo', '23', 'm', 'alexcabeludo2@hotmail.com', '014908648117'], ['2', 'Haroldo', '44', 'f', 'baratarebelde@gmail.com', '050923172729'], ['3', 'Pilar', '50', 'm', 'wanderson10sp@gmail.com', '018937341049'], ['4', 'Suzete Salvador', '45', 'f', 'eladiomp2@yahoo.com.br', '056928409823'], ['5', 'Riane', '37', 'f', 'orkutzimpower@terra.com.br', '018916004377'], ['6', 'Waldir', '34', 'f', 'nandah.s2@bol.com.br', '058903756441'], ['7', 'Lilian', '22', 'f', 'arydoido@gmail.com', '031958621596'], ['8', 'Matilde', '20', 'm', 'eu_kaka_@hotmail.com', '012941959390'], ['9', 'Samanta', '19', 'm', 'carro.tuning@yahoo.com.br', '028964480437'], ['10', 'Margarida', '30', 'm', 'paraaconta.08@hotmail.com', '047903547580'], ['11', 'Evelyn', '31', 'm', 'joaosilvaticudo@gmail.com', '053958638386'], ['12', 'Alessio', '29', 'm', 'w.nill02@gmail.com', '033961294774'], ['13', 'Yolanda', '25', 'm', 'patty_karen2005@hotmail.com', '027903312626'], ['14', 'Germana', '33', 'f', 'jarlinhatopdelinhagv@hotmail.com', '053964603415'], ['15', 'Helio', '33', 'f', 'juh.slim@gmail.com', '046997316461'], ['16', 'Liége', '21', 'f', 'gledsonlds@hotmail.com', '056992948431'], ['17', 'Yan', '42', 'm', 'lucapratto@yahoo.com.br', '016963562866'], ['18', 'Silvain', '50', 'f', 'hie.s2@hotmail.com', '021963399433'], ['19', 'Brian', '33', 'f', 'juliagabrielle06@hotmail.com', '027962676732'], ['20', 'Deoclides', '40', 'f', 'patriciamascena@gmail.com', '012961047979'], ['21', 'Jaqueline', '32', 'm', 'aninha183@hotmail.com', '014958997782'], ['22', 'Rosamaria', '45', 'f', 'j_leosao@hotmail.com', '026944672627'], ['23', 'Carla', '42', 'm', 'jhasdfjo@hotmail.com', '046976625208'], ['24', 'Aida Santos', '30', 'f', 'nayara.cristinap@hotmail.com', '034920819199'], ['25', 'Thomas', '19', 'm', 'jfdslinda@bol.com.br', '030974027667'], ['26', 'Naiara', '23', 'm', 'darknees_666@ig.com.br', '018976696717'], ['27', 'Karyne', '17', 'm', 'garotosonhador_1@hotmail.com', '054984689319'], ['28', 'Alenis Dias', '43', 'f', 'vi_vi_cristinaf@hotmail.com', '034980886309'], ['29', 'Grace', '38', 'm', 'amandakell@uol.com.br', '041932906720'], ['30', 'Zacarias', '31', 'm', 'loca.som@hotmail.com', '041926007066']]\n",
    "####################### \n",
    "\n",
    "\n"
   ]
  },
  {
   "cell_type": "markdown",
   "metadata": {
    "colab_type": "text",
    "id": "KIogJMjfUb0D"
   },
   "source": [
    "18) Conte na lista1 a quantidade dos seguintes valores (use o f-string):"
   ]
  },
  {
   "cell_type": "code",
   "execution_count": null,
   "metadata": {
    "colab": {},
    "colab_type": "code",
    "id": "maqJbdHNUa7A"
   },
   "outputs": [],
   "source": [
    "# Execute este código para gerar as listas\n",
    "lista1 = lista_simples_int(10000)"
   ]
  },
  {
   "cell_type": "markdown",
   "metadata": {
    "colab_type": "text",
    "id": "Ch5IMmTKU9Gb"
   },
   "source": [
    "18.1) 4529"
   ]
  },
  {
   "cell_type": "code",
   "execution_count": null,
   "metadata": {
    "colab": {},
    "colab_type": "code",
    "id": "D6hmy3oDVdbg"
   },
   "outputs": [],
   "source": []
  },
  {
   "cell_type": "markdown",
   "metadata": {
    "colab_type": "text",
    "id": "UYihHD7LVB8C"
   },
   "source": [
    "18.2) 29"
   ]
  },
  {
   "cell_type": "code",
   "execution_count": null,
   "metadata": {
    "colab": {},
    "colab_type": "code",
    "id": "e995iIQCVd1X"
   },
   "outputs": [],
   "source": []
  },
  {
   "cell_type": "markdown",
   "metadata": {
    "colab_type": "text",
    "id": "gXnvXQhGVDEf"
   },
   "source": [
    "18.3) 1107"
   ]
  },
  {
   "cell_type": "code",
   "execution_count": null,
   "metadata": {
    "colab": {},
    "colab_type": "code",
    "id": "uti4Z_R4VeJs"
   },
   "outputs": [],
   "source": []
  },
  {
   "cell_type": "markdown",
   "metadata": {
    "colab_type": "text",
    "id": "o58yDMWiVDSE"
   },
   "source": [
    "18.4) 7927"
   ]
  },
  {
   "cell_type": "code",
   "execution_count": null,
   "metadata": {
    "colab": {},
    "colab_type": "code",
    "id": "Qp5t3Oh4VeW5"
   },
   "outputs": [],
   "source": []
  },
  {
   "cell_type": "markdown",
   "metadata": {
    "colab_type": "text",
    "id": "9INymdQBVC0e"
   },
   "source": [
    "18.5) 6967"
   ]
  },
  {
   "cell_type": "code",
   "execution_count": null,
   "metadata": {
    "colab": {},
    "colab_type": "code",
    "id": "7XvAx0DfVekP"
   },
   "outputs": [],
   "source": []
  },
  {
   "cell_type": "markdown",
   "metadata": {
    "colab_type": "text",
    "id": "5lG-O5E6VDfa"
   },
   "source": [
    "18.6) 5964"
   ]
  },
  {
   "cell_type": "code",
   "execution_count": null,
   "metadata": {
    "colab": {},
    "colab_type": "code",
    "id": "MUenfaofVezL"
   },
   "outputs": [],
   "source": []
  },
  {
   "cell_type": "markdown",
   "metadata": {
    "colab_type": "text",
    "id": "mFjxxMPqVDtR"
   },
   "source": [
    "18.7) 8893"
   ]
  },
  {
   "cell_type": "code",
   "execution_count": null,
   "metadata": {
    "colab": {},
    "colab_type": "code",
    "id": "IVMfiGANVfA6"
   },
   "outputs": [],
   "source": []
  },
  {
   "cell_type": "markdown",
   "metadata": {
    "colab_type": "text",
    "id": "yyQSnBB5VD5U"
   },
   "source": [
    "18.8) 3972"
   ]
  },
  {
   "cell_type": "code",
   "execution_count": null,
   "metadata": {
    "colab": {},
    "colab_type": "code",
    "id": "FeQtcfBeVfQO"
   },
   "outputs": [],
   "source": []
  },
  {
   "cell_type": "markdown",
   "metadata": {
    "colab_type": "text",
    "id": "D37KSSUDVEHN"
   },
   "source": [
    "18.9) 10"
   ]
  },
  {
   "cell_type": "code",
   "execution_count": null,
   "metadata": {
    "colab": {},
    "colab_type": "code",
    "id": "ifUhx4N0VfhJ"
   },
   "outputs": [],
   "source": []
  },
  {
   "cell_type": "markdown",
   "metadata": {
    "colab_type": "text",
    "id": "0zZI8F4nVEUf"
   },
   "source": [
    "18.10) 8214"
   ]
  },
  {
   "cell_type": "code",
   "execution_count": null,
   "metadata": {
    "colab": {},
    "colab_type": "code",
    "id": "K-oKspSoVbm4"
   },
   "outputs": [],
   "source": []
  },
  {
   "cell_type": "markdown",
   "metadata": {
    "colab_type": "text",
    "id": "oR77fUjRVgzR"
   },
   "source": [
    "19) Um numero binário, localizado em uma lista 'listabin', necessita ser convertido em número decimal.\n",
    "\n",
    "Faça uma função que converta o número binário e retorne o número em decimal. Imprima na tela o número binário e o resultado. (use o .reverte())"
   ]
  },
  {
   "cell_type": "code",
   "execution_count": null,
   "metadata": {
    "colab": {},
    "colab_type": "code",
    "id": "bg3bVLGFV0Wy"
   },
   "outputs": [],
   "source": [
    "####################### Não apagar!\n",
    "listabin = binario()\n",
    "####################### \n",
    "\n",
    "\n"
   ]
  },
  {
   "cell_type": "markdown",
   "metadata": {
    "colab_type": "text",
    "id": "xvd4ohLSV3TT"
   },
   "source": [
    "20) com as seguintes listas, imprima elas e .reverte() suas posições. Some as posições e retorne a lista com as somas.\n",
    "\n",
    "Exemplo:\n",
    "\n",
    "```\n",
    ">>> lista1        = [42,3, 1, 4]\n",
    ">>> lista_reversa = [4, 1, 3, 42]\n",
    ">>> lista_soma    = [46,4, 4, 46]\n",
    "```"
   ]
  },
  {
   "cell_type": "markdown",
   "metadata": {
    "colab_type": "text",
    "id": "x8HqU0krWXrZ"
   },
   "source": [
    "20.1) lista1"
   ]
  },
  {
   "cell_type": "code",
   "execution_count": null,
   "metadata": {
    "colab": {},
    "colab_type": "code",
    "id": "_ntpPTsNWolA"
   },
   "outputs": [],
   "source": [
    "####################### Não apagar!\n",
    "lista1 = lista_simples_int(8)\n",
    "####################### \n",
    "\n",
    "\n"
   ]
  },
  {
   "cell_type": "markdown",
   "metadata": {
    "colab_type": "text",
    "id": "jfA1p_0AWX3f"
   },
   "source": [
    "20.2) lista2"
   ]
  },
  {
   "cell_type": "code",
   "execution_count": null,
   "metadata": {
    "colab": {},
    "colab_type": "code",
    "id": "6bPdwD2zWvb7"
   },
   "outputs": [],
   "source": [
    "####################### Não apagar!\n",
    "lista2 = lista_simples_int(8)\n",
    "####################### \n",
    "\n",
    "\n"
   ]
  },
  {
   "cell_type": "markdown",
   "metadata": {
    "colab_type": "text",
    "id": "euLqTXp8WX_0"
   },
   "source": [
    "20.3) lista3"
   ]
  },
  {
   "cell_type": "code",
   "execution_count": null,
   "metadata": {
    "colab": {},
    "colab_type": "code",
    "id": "-If81WN9Wwd3"
   },
   "outputs": [],
   "source": [
    "####################### Não apagar!\n",
    "lista3 = lista_simples_int(8)\n",
    "####################### \n",
    "\n",
    "\n"
   ]
  },
  {
   "cell_type": "markdown",
   "metadata": {
    "colab_type": "text",
    "id": "f4rR_MHXWYOZ"
   },
   "source": [
    "20.4) lista4"
   ]
  },
  {
   "cell_type": "code",
   "execution_count": null,
   "metadata": {
    "colab": {},
    "colab_type": "code",
    "id": "mYmkFyhZWyGt"
   },
   "outputs": [],
   "source": [
    "####################### Não apagar!\n",
    "lista4 = lista_simples_int(8)\n",
    "####################### \n",
    "\n",
    "\n"
   ]
  },
  {
   "cell_type": "markdown",
   "metadata": {
    "colab_type": "text",
    "id": "tprla7GgWYd_"
   },
   "source": [
    "20.5) lista5"
   ]
  },
  {
   "cell_type": "code",
   "execution_count": null,
   "metadata": {
    "colab": {},
    "colab_type": "code",
    "id": "D99_DRFQW2Uy"
   },
   "outputs": [],
   "source": [
    "####################### Não apagar!\n",
    "lista5 = lista_simples_int(8)\n",
    "####################### \n",
    "\n",
    "\n"
   ]
  },
  {
   "cell_type": "markdown",
   "metadata": {
    "colab_type": "text",
    "id": "sVPK-ZZSXblm"
   },
   "source": [
    "21) Com um comando .clear()  apague as seguintes informações:"
   ]
  },
  {
   "cell_type": "markdown",
   "metadata": {
    "colab_type": "text",
    "id": "wn--lOXgXfBc"
   },
   "source": [
    "21.1) apague toda a lista"
   ]
  },
  {
   "cell_type": "code",
   "execution_count": null,
   "metadata": {
    "colab": {},
    "colab_type": "code",
    "id": "1km0dLj3XfY8"
   },
   "outputs": [],
   "source": [
    "####################### Não apagar!\n",
    "lista_aninhada = [1, 2, 3, [4, 5, [1, 2, 3, [4, 5, [7, [9], 8], 6]], 6]]\n",
    "####################### \n",
    "\n",
    "\n"
   ]
  },
  {
   "cell_type": "markdown",
   "metadata": {
    "colab_type": "text",
    "id": "OJyPCknXXgFU"
   },
   "source": [
    "21.2)  apague somente: [4, 5, [1, 2, 3, [4, 5, [7, [9], 8], 6]], 6]"
   ]
  },
  {
   "cell_type": "code",
   "execution_count": null,
   "metadata": {
    "colab": {},
    "colab_type": "code",
    "id": "IPZwIxw3XgU9"
   },
   "outputs": [],
   "source": [
    "####################### Não apagar!\n",
    "lista_aninhada = [1, 2, 3, [4, 5, [1, 2, 3, [4, 5, [7, [9], 8], 6]], 6]]\n",
    "####################### \n",
    "\n",
    "\n"
   ]
  },
  {
   "cell_type": "markdown",
   "metadata": {
    "colab_type": "text",
    "id": "3jTiBeAFXgle"
   },
   "source": [
    "21.3) [4, 5, [7, [9], 8], 6]"
   ]
  },
  {
   "cell_type": "code",
   "execution_count": null,
   "metadata": {
    "colab": {},
    "colab_type": "code",
    "id": "qv8LoapEXg3E"
   },
   "outputs": [],
   "source": [
    "####################### Não apagar!\n",
    "lista_aninhada = [1, 2, 3, [4, 5, [1, 2, 3, [4, 5, [7, [9], 8], 6]], 6]]\n",
    "####################### \n",
    "\n",
    "\n"
   ]
  },
  {
   "cell_type": "markdown",
   "metadata": {
    "colab_type": "text",
    "id": "QAX1UM6JXhFL"
   },
   "source": [
    "21.4)  [7, [9], 8]"
   ]
  },
  {
   "cell_type": "code",
   "execution_count": null,
   "metadata": {
    "colab": {},
    "colab_type": "code",
    "id": "bupYX3LRXhSP"
   },
   "outputs": [],
   "source": [
    "####################### Não apagar!\n",
    "lista_aninhada = [1, 2, 3, [4, 5, [1, 2, 3, [4, 5, [7, [9], 8], 6]], 6]]\n",
    "####################### \n",
    "\n",
    "\n"
   ]
  },
  {
   "cell_type": "markdown",
   "metadata": {
    "colab_type": "text",
    "id": "ySRPY46kXjFI"
   },
   "source": [
    "21.5) 5,6"
   ]
  },
  {
   "cell_type": "code",
   "execution_count": null,
   "metadata": {
    "colab": {},
    "colab_type": "code",
    "id": "oyPa3y4vXhmn"
   },
   "outputs": [],
   "source": [
    "####################### Não apagar!\n",
    "lista_aninhada = [[1,2],[3,4],[5,6],[7,8],[9,10]]\n",
    "####################### \n",
    "\n",
    "\n"
   ]
  },
  {
   "cell_type": "markdown",
   "metadata": {
    "colab_type": "text",
    "id": "A_zq9FV6Xhcq"
   },
   "source": [
    "21.6) 9,10"
   ]
  },
  {
   "cell_type": "code",
   "execution_count": null,
   "metadata": {
    "colab": {},
    "colab_type": "code",
    "id": "p71ojIEpXkWD"
   },
   "outputs": [],
   "source": [
    "####################### Não apagar!\n",
    "lista_aninhada = [[1,2],[3,4],[5,6],[7,8],[9,10]]\n",
    "####################### \n",
    "\n",
    "\n"
   ]
  },
  {
   "cell_type": "markdown",
   "metadata": {
    "colab_type": "text",
    "id": "qDhNZY3NYJdR"
   },
   "source": [
    "\n",
    "\n",
    "---\n",
    "\n"
   ]
  },
  {
   "cell_type": "markdown",
   "metadata": {
    "colab_type": "text",
    "id": "Qpg993zxYKSG"
   },
   "source": [
    "# **NÂO OBRIGATÓRIA - Para os alunos avançados!**\n",
    "\n",
    "Com esta lista embaralhada... nem Zeus sabe o que tem nela!"
   ]
  },
  {
   "cell_type": "code",
   "execution_count": null,
   "metadata": {
    "colab": {},
    "colab_type": "code",
    "id": "udGDJzQmYa7z"
   },
   "outputs": [],
   "source": [
    "lista = embaralhar_int_str_hard(randint(3,20),randint(10,50))\n",
    "\n",
    "#Olhá só que encrenca:\n",
    "\n",
    "for i in lista:\n",
    "    print('\\n',i)"
   ]
  },
  {
   "cell_type": "markdown",
   "metadata": {
    "colab_type": "text",
    "id": "QcYWwxqQYT6T"
   },
   "source": [
    "21) Crie um algoritmo que verifique se todas as listas dentro da \"lista\" são iguais ou são elas mesmas!\n",
    "\n",
    "No final, quantas listas são somente iguais e quantas listas são as mesmas.\n",
    "\n",
    "Mostre tambem os indices das listas que são eles mesnos (is) e os indices das listas que são somente iguais\n",
    "\n",
    "**Boa sorte!**"
   ]
  },
  {
   "cell_type": "code",
   "execution_count": null,
   "metadata": {
    "colab": {},
    "colab_type": "code",
    "id": "6iYaK95IZB3g"
   },
   "outputs": [],
   "source": [
    "####################### Não apagar!\n",
    "lista = embaralhar_int_str_hard(randint(3,20),randint(10,50))\n",
    "####################### \n",
    "\n",
    "\n"
   ]
  }
 ],
 "metadata": {
  "colab": {
   "collapsed_sections": [],
   "name": "Lista 04 Exercicios.ipynb",
   "provenance": []
  },
  "kernelspec": {
   "display_name": "Python 3",
   "language": "python",
   "name": "python3"
  },
  "language_info": {
   "codemirror_mode": {
    "name": "ipython",
    "version": 3
   },
   "file_extension": ".py",
   "mimetype": "text/x-python",
   "name": "python",
   "nbconvert_exporter": "python",
   "pygments_lexer": "ipython3",
   "version": "3.7.3"
  }
 },
 "nbformat": 4,
 "nbformat_minor": 1
}
